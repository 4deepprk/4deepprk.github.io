{
  "nbformat": 4,
  "nbformat_minor": 0,
  "metadata": {
    "colab": {
      "name": "DL 103 Sigmoid Neuron.ipynb",
      "provenance": [],
      "collapsed_sections": [],
      "authorship_tag": "ABX9TyMhSLL0snGM2AY4A/Fxoj24",
      "include_colab_link": true
    },
    "kernelspec": {
      "name": "python3",
      "display_name": "Python 3"
    },
    "widgets": {
      "application/vnd.jupyter.widget-state+json": {
        "02e2def6dcdb444ebdf6c203cc498f06": {
          "model_module": "@jupyter-widgets/controls",
          "model_name": "HBoxModel",
          "state": {
            "_view_name": "HBoxView",
            "_dom_classes": [],
            "_model_name": "HBoxModel",
            "_view_module": "@jupyter-widgets/controls",
            "_model_module_version": "1.5.0",
            "_view_count": null,
            "_view_module_version": "1.5.0",
            "box_style": "",
            "layout": "IPY_MODEL_d501cfb815ce4bb9b0ef9f67dba437af",
            "_model_module": "@jupyter-widgets/controls",
            "children": [
              "IPY_MODEL_ee456c9e84f240c7b155f7e02a0f4796",
              "IPY_MODEL_fd7bb5a4d565402dabc35b25b4e68e45"
            ]
          }
        },
        "d501cfb815ce4bb9b0ef9f67dba437af": {
          "model_module": "@jupyter-widgets/base",
          "model_name": "LayoutModel",
          "state": {
            "_view_name": "LayoutView",
            "grid_template_rows": null,
            "right": null,
            "justify_content": null,
            "_view_module": "@jupyter-widgets/base",
            "overflow": null,
            "_model_module_version": "1.2.0",
            "_view_count": null,
            "flex_flow": null,
            "width": null,
            "min_width": null,
            "border": null,
            "align_items": null,
            "bottom": null,
            "_model_module": "@jupyter-widgets/base",
            "top": null,
            "grid_column": null,
            "overflow_y": null,
            "overflow_x": null,
            "grid_auto_flow": null,
            "grid_area": null,
            "grid_template_columns": null,
            "flex": null,
            "_model_name": "LayoutModel",
            "justify_items": null,
            "grid_row": null,
            "max_height": null,
            "align_content": null,
            "visibility": null,
            "align_self": null,
            "height": null,
            "min_height": null,
            "padding": null,
            "grid_auto_rows": null,
            "grid_gap": null,
            "max_width": null,
            "order": null,
            "_view_module_version": "1.2.0",
            "grid_template_areas": null,
            "object_position": null,
            "object_fit": null,
            "grid_auto_columns": null,
            "margin": null,
            "display": null,
            "left": null
          }
        },
        "ee456c9e84f240c7b155f7e02a0f4796": {
          "model_module": "@jupyter-widgets/controls",
          "model_name": "IntProgressModel",
          "state": {
            "_view_name": "ProgressView",
            "style": "IPY_MODEL_5a7bc8622fdd4524a4f2f0dc17941164",
            "_dom_classes": [],
            "description": "100%",
            "_model_name": "IntProgressModel",
            "bar_style": "success",
            "max": 2000,
            "_view_module": "@jupyter-widgets/controls",
            "_model_module_version": "1.5.0",
            "value": 2000,
            "_view_count": null,
            "_view_module_version": "1.5.0",
            "orientation": "horizontal",
            "min": 0,
            "description_tooltip": null,
            "_model_module": "@jupyter-widgets/controls",
            "layout": "IPY_MODEL_98269ff902784df3a133c1ad388b700e"
          }
        },
        "fd7bb5a4d565402dabc35b25b4e68e45": {
          "model_module": "@jupyter-widgets/controls",
          "model_name": "HTMLModel",
          "state": {
            "_view_name": "HTMLView",
            "style": "IPY_MODEL_11e0d4bdc20a4ac88b4216e0e028b563",
            "_dom_classes": [],
            "description": "",
            "_model_name": "HTMLModel",
            "placeholder": "​",
            "_view_module": "@jupyter-widgets/controls",
            "_model_module_version": "1.5.0",
            "value": " 2000/2000 [00:28&lt;00:00, 70.67epoch/s]",
            "_view_count": null,
            "_view_module_version": "1.5.0",
            "description_tooltip": null,
            "_model_module": "@jupyter-widgets/controls",
            "layout": "IPY_MODEL_bccff4f3d01440bb8639d5792a7915d0"
          }
        },
        "5a7bc8622fdd4524a4f2f0dc17941164": {
          "model_module": "@jupyter-widgets/controls",
          "model_name": "ProgressStyleModel",
          "state": {
            "_view_name": "StyleView",
            "_model_name": "ProgressStyleModel",
            "description_width": "initial",
            "_view_module": "@jupyter-widgets/base",
            "_model_module_version": "1.5.0",
            "_view_count": null,
            "_view_module_version": "1.2.0",
            "bar_color": null,
            "_model_module": "@jupyter-widgets/controls"
          }
        },
        "98269ff902784df3a133c1ad388b700e": {
          "model_module": "@jupyter-widgets/base",
          "model_name": "LayoutModel",
          "state": {
            "_view_name": "LayoutView",
            "grid_template_rows": null,
            "right": null,
            "justify_content": null,
            "_view_module": "@jupyter-widgets/base",
            "overflow": null,
            "_model_module_version": "1.2.0",
            "_view_count": null,
            "flex_flow": null,
            "width": null,
            "min_width": null,
            "border": null,
            "align_items": null,
            "bottom": null,
            "_model_module": "@jupyter-widgets/base",
            "top": null,
            "grid_column": null,
            "overflow_y": null,
            "overflow_x": null,
            "grid_auto_flow": null,
            "grid_area": null,
            "grid_template_columns": null,
            "flex": null,
            "_model_name": "LayoutModel",
            "justify_items": null,
            "grid_row": null,
            "max_height": null,
            "align_content": null,
            "visibility": null,
            "align_self": null,
            "height": null,
            "min_height": null,
            "padding": null,
            "grid_auto_rows": null,
            "grid_gap": null,
            "max_width": null,
            "order": null,
            "_view_module_version": "1.2.0",
            "grid_template_areas": null,
            "object_position": null,
            "object_fit": null,
            "grid_auto_columns": null,
            "margin": null,
            "display": null,
            "left": null
          }
        },
        "11e0d4bdc20a4ac88b4216e0e028b563": {
          "model_module": "@jupyter-widgets/controls",
          "model_name": "DescriptionStyleModel",
          "state": {
            "_view_name": "StyleView",
            "_model_name": "DescriptionStyleModel",
            "description_width": "",
            "_view_module": "@jupyter-widgets/base",
            "_model_module_version": "1.5.0",
            "_view_count": null,
            "_view_module_version": "1.2.0",
            "_model_module": "@jupyter-widgets/controls"
          }
        },
        "bccff4f3d01440bb8639d5792a7915d0": {
          "model_module": "@jupyter-widgets/base",
          "model_name": "LayoutModel",
          "state": {
            "_view_name": "LayoutView",
            "grid_template_rows": null,
            "right": null,
            "justify_content": null,
            "_view_module": "@jupyter-widgets/base",
            "overflow": null,
            "_model_module_version": "1.2.0",
            "_view_count": null,
            "flex_flow": null,
            "width": null,
            "min_width": null,
            "border": null,
            "align_items": null,
            "bottom": null,
            "_model_module": "@jupyter-widgets/base",
            "top": null,
            "grid_column": null,
            "overflow_y": null,
            "overflow_x": null,
            "grid_auto_flow": null,
            "grid_area": null,
            "grid_template_columns": null,
            "flex": null,
            "_model_name": "LayoutModel",
            "justify_items": null,
            "grid_row": null,
            "max_height": null,
            "align_content": null,
            "visibility": null,
            "align_self": null,
            "height": null,
            "min_height": null,
            "padding": null,
            "grid_auto_rows": null,
            "grid_gap": null,
            "max_width": null,
            "order": null,
            "_view_module_version": "1.2.0",
            "grid_template_areas": null,
            "object_position": null,
            "object_fit": null,
            "grid_auto_columns": null,
            "margin": null,
            "display": null,
            "left": null
          }
        }
      }
    }
  },
  "cells": [
    {
      "cell_type": "markdown",
      "metadata": {
        "id": "view-in-github",
        "colab_type": "text"
      },
      "source": [
        "<a href=\"https://colab.research.google.com/github/4deepprk/4deepprk.github.io/blob/master/DL_103_Sigmoid_Neuron.ipynb\" target=\"_parent\"><img src=\"https://colab.research.google.com/assets/colab-badge.svg\" alt=\"Open In Colab\"/></a>"
      ]
    },
    {
      "cell_type": "code",
      "metadata": {
        "id": "c3Ztkv1iy0UR",
        "colab_type": "code",
        "colab": {}
      },
      "source": [
        "import numpy as np\n",
        "import matplotlib.pyplot as plt\n",
        "import matplotlib.colors\n",
        "import pandas as pd\n",
        "from sklearn.preprocessing import StandardScaler, MinMaxScaler\n",
        "from sklearn.model_selection import train_test_split\n",
        "from sklearn.metrics import accuracy_score, mean_squared_error\n",
        "from tqdm import tqdm_notebook"
      ],
      "execution_count": 0,
      "outputs": []
    },
    {
      "cell_type": "markdown",
      "metadata": {
        "id": "jG7IyML-ytPG",
        "colab_type": "text"
      },
      "source": [
        "# 2D Plotting of sigmoid function for 1 dimensional data (1 feature)\n",
        "# and 1 dimensional target variable \n",
        "$S_{w, b}(x) = \\frac{1}{1 + e^{-(w.x + b)}}$"
      ]
    },
    {
      "cell_type": "code",
      "metadata": {
        "id": "iJk_uFjKy9-y",
        "colab_type": "code",
        "colab": {}
      },
      "source": [
        "def sigmoid(x, w, b):\n",
        "  # Sigmoid function takes in x, w and b as scalars\n",
        "  return 1 / (1 + np.exp(-(w*x + b)))"
      ],
      "execution_count": 0,
      "outputs": []
    },
    {
      "cell_type": "code",
      "metadata": {
        "id": "jxlglywd0EcO",
        "colab_type": "code",
        "outputId": "d9096a35-e4c8-4ccc-febc-45c7bfc12fa5",
        "colab": {
          "base_uri": "https://localhost:8080/",
          "height": 34
        }
      },
      "source": [
        "# Value of sigmoid function ranges from 0 to 1\n",
        "sigmoid(1, 0.5, 0)"
      ],
      "execution_count": 0,
      "outputs": [
        {
          "output_type": "execute_result",
          "data": {
            "text/plain": [
              "0.6224593312018546"
            ]
          },
          "metadata": {
            "tags": []
          },
          "execution_count": 3
        }
      ]
    },
    {
      "cell_type": "code",
      "metadata": {
        "id": "6LZ7svgz0HF2",
        "colab_type": "code",
        "colab": {}
      },
      "source": [
        "# Plot sigmoid function for different values of w and b\n",
        "''' # google colab slider helps in sliding the value of w and b'''\n",
        "w = -1.5 #@param {type: \"slider\", min: -2, max: 2, step: 0.1}\n",
        "b = 0.3 #@param {type: \"slider\", min: -2, max: 2, step: 0.1}\n",
        "# 100 points equally spaced between -10 and 10\n",
        "# let us see how graph of sigmoid looks like\n",
        "X = np.linspace(-10, 10, 100)\n",
        "# w and b are scalars and X is a 1D array\n",
        "# Python Broadcasting : \n",
        "# w.x -> dot product of scalar and vector is a vector\n",
        "# w.x + b -> vector + scalar is a  vector\n",
        "# 1 / (1 + np.exp(-(w*x + b))) returns a vector\n",
        "Y = sigmoid(X, w, b)"
      ],
      "execution_count": 0,
      "outputs": []
    },
    {
      "cell_type": "code",
      "metadata": {
        "id": "wiTPuo8C1Uw6",
        "colab_type": "code",
        "outputId": "bde3724b-d0d8-4539-9b71-e157e6a4fba6",
        "colab": {
          "base_uri": "https://localhost:8080/",
          "height": 51
        }
      },
      "source": [
        "print(type(X), X.ndim)\n",
        "print(type(Y), Y.ndim)\n",
        "#print(type(w), w.ndim)\n",
        "#print(type(b), b.ndim)"
      ],
      "execution_count": 0,
      "outputs": [
        {
          "output_type": "stream",
          "text": [
            "<class 'numpy.ndarray'> 1\n",
            "<class 'numpy.ndarray'> 1\n"
          ],
          "name": "stdout"
        }
      ]
    },
    {
      "cell_type": "code",
      "metadata": {
        "id": "UMtkve6R1XrG",
        "colab_type": "code",
        "outputId": "422f9fcd-f5dc-4aad-9a60-c6622996f2db",
        "colab": {
          "base_uri": "https://localhost:8080/",
          "height": 265
        }
      },
      "source": [
        "plt.plot(X, Y)\n",
        "plt.show()"
      ],
      "execution_count": 0,
      "outputs": [
        {
          "output_type": "display_data",
          "data": {
            "image/png": "[encoded data removed]",
            "text/plain": [
              "<Figure size 432x288 with 1 Axes>"
            ]
          },
          "metadata": {
            "tags": [],
            "needs_background": "light"
          }
        }
      ]
    },
    {
      "cell_type": "markdown",
      "metadata": {
        "id": "kJu0l4_fHtmo",
        "colab_type": "text"
      },
      "source": [
        "# 3D Plotting of sigmoid function for 2 dimensional data (2 features) and 1 dimensional target variable\n",
        "\n",
        "$S_{w_1, w_2, b}(x_1, x_2) = \\frac {1}{1 + e^{-{(w_1.x_1 + w_2.x_2 + b)}}}$"
      ]
    },
    {
      "cell_type": "code",
      "metadata": {
        "id": "wturViuV3o7R",
        "colab_type": "code",
        "colab": {}
      },
      "source": [
        "def sigmoid_2d(x1, x2, w1, w2, b):\n",
        "  return 1 / (1 + np.exp(-(w1*x1 + w2*x2 + b)))"
      ],
      "execution_count": 0,
      "outputs": []
    },
    {
      "cell_type": "code",
      "metadata": {
        "id": "Fb-65ZiWJcSf",
        "colab_type": "code",
        "outputId": "563f32d9-8d3c-47c3-d929-14638c20f2ac",
        "colab": {
          "base_uri": "https://localhost:8080/",
          "height": 34
        }
      },
      "source": [
        "sigmoid_2d(1, 0, 0.5, 0, 0)"
      ],
      "execution_count": 0,
      "outputs": [
        {
          "output_type": "execute_result",
          "data": {
            "text/plain": [
              "0.6224593312018546"
            ]
          },
          "metadata": {
            "tags": []
          },
          "execution_count": 8
        }
      ]
    },
    {
      "cell_type": "code",
      "metadata": {
        "id": "ft-yh4ntJnZf",
        "colab_type": "code",
        "colab": {}
      },
      "source": [
        "# https://jakevdp.github.io/PythonDataScienceHandbook/04.12-three-dimensional-plotting.html\n",
        "\n",
        "from mpl_toolkits import mplot3d"
      ],
      "execution_count": 0,
      "outputs": []
    },
    {
      "cell_type": "code",
      "metadata": {
        "id": "IKiC6SI9N18z",
        "colab_type": "code",
        "outputId": "eb655331-fcc0-40ff-8540-f71ad484e74a",
        "colab": {
          "base_uri": "https://localhost:8080/",
          "height": 51
        }
      },
      "source": [
        "X1 = np.linspace(-10, 10, 100) # vector\n",
        "X2 = np.linspace(-10, 10, 100) # vector\n",
        "# In order to plot for every combination of X1 and X2 we use meshgrid\n",
        "# computing for joint grid which takes all possible pairs for plotting\n",
        "# All possible means: each scalar value of XX1 or XX2 will have any value\n",
        "# of range -10 to +10 with 100 points i.e., XX1[0] have 100 points upto \n",
        "# XX1[99] have 100 points and so we have 10000 points for XX1 creating all possible\n",
        "# 2D points. Same goes with XX2 where meshgrid creates another 10000 2D points.\n",
        "XX1, XX2 = np.meshgrid(X1, X2) \n",
        "\n",
        "print(X1.shape, X2.shape, XX1.shape, XX2.shape)\n",
        "print(X1.ndim, X2.ndim, XX1.ndim, XX2.ndim)\n",
        "#print(XX1[0])"
      ],
      "execution_count": 0,
      "outputs": [
        {
          "output_type": "stream",
          "text": [
            "(100,) (100,) (100, 100) (100, 100)\n",
            "1 1 2 2\n"
          ],
          "name": "stdout"
        }
      ]
    },
    {
      "cell_type": "code",
      "metadata": {
        "id": "4xkfbFReUXdj",
        "colab_type": "code",
        "colab": {}
      },
      "source": [
        "w1 = 2 #@param {type: \"slider\", min: -2, max: 2, step: 0.1}\n",
        "w2 = -0.5 #@param {type: \"slider\", min: -2, max: 2, step: 0.1}\n",
        "b = 3.3 #@param {type: \"slider\", min: -10, max: 10, step: 0.1}\n",
        "Y = sigmoid_2d(XX1, XX2, w1, w2, b) # Python Broadcasting"
      ],
      "execution_count": 0,
      "outputs": []
    },
    {
      "cell_type": "code",
      "metadata": {
        "id": "aNyAvXytfA7g",
        "colab_type": "code",
        "colab": {}
      },
      "source": [
        "my_cmap = matplotlib.colors.LinearSegmentedColormap.from_list(\"\", [\"red\", \"yellow\", \"green\"])"
      ],
      "execution_count": 0,
      "outputs": []
    },
    {
      "cell_type": "code",
      "metadata": {
        "id": "-tYmn5NHefd9",
        "colab_type": "code",
        "outputId": "bf3759ef-a517-45ad-d9da-d2cdccb85f8d",
        "colab": {
          "base_uri": "https://localhost:8080/",
          "height": 269
        }
      },
      "source": [
        "plt.contourf(XX1, XX2, Y, cmap = my_cmap, alpha = 0.75)\n",
        "plt.show()"
      ],
      "execution_count": 0,
      "outputs": [
        {
          "output_type": "display_data",
          "data": {
            "image/png": "[encoded data removed]",
            "text/plain": [
              "<Figure size 432x288 with 1 Axes>"
            ]
          },
          "metadata": {
            "tags": [],
            "needs_background": "light"
          }
        }
      ]
    },
    {
      "cell_type": "code",
      "metadata": {
        "id": "QCjP-CBCVdZY",
        "colab_type": "code",
        "outputId": "68bf46c8-1c1f-4c14-fe92-8797e349f753",
        "colab": {
          "base_uri": "https://localhost:8080/",
          "height": 248
        }
      },
      "source": [
        "# This plot is between inputs and target\n",
        "fig = plt.figure()\n",
        "ax = plt.axes(projection='3d')\n",
        "#ax.contour3D(XX1, XX2, Y, 500, cmap='viridis')\n",
        "ax.plot_surface(XX1, XX2, Y, cmap='viridis')\n",
        "ax.set_xlabel('x1')\n",
        "ax.set_ylabel('x2')\n",
        "ax.set_zlabel('y')\n",
        "# first parameter in view_init denotes degree above X1-X2 plane and the\n",
        "# second parameter denotes degree rotated counter-clockwise about Y axis\n",
        "ax.view_init(30, 180) "
      ],
      "execution_count": 0,
      "outputs": [
        {
          "output_type": "display_data",
          "data": {
            "image/png": "[encoded data removed]",
            "text/plain": [
              "<Figure size 432x288 with 1 Axes>"
            ]
          },
          "metadata": {
            "tags": [],
            "needs_background": "light"
          }
        }
      ]
    },
    {
      "cell_type": "markdown",
      "metadata": {
        "id": "EB3aNluJ3wVK",
        "colab_type": "text"
      },
      "source": [
        "# Compute loss for a given dataset"
      ]
    },
    {
      "cell_type": "code",
      "metadata": {
        "id": "Ks6MDXn3uuc9",
        "colab_type": "code",
        "colab": {}
      },
      "source": [
        "# Let us try to find out the values of \"w\" and \"b\" in a brute force search algorithm way\n",
        "# when X and Y are given to the mathematical function\n",
        "\n",
        "# Initial we assume the values of w and b\n",
        "w_unknown = 0.5\n",
        "b_unknown = 0.25\n",
        "\n",
        "# 1 dimensional feature\n",
        "X = np.random.random(25) * 20 - 10\n",
        "Y = sigmoid(X, w_unknown, b_unknown)"
      ],
      "execution_count": 0,
      "outputs": []
    },
    {
      "cell_type": "code",
      "metadata": {
        "id": "1WslVc7mWca2",
        "colab_type": "code",
        "outputId": "bbbdd941-6a1b-4df8-95dc-f810d54260b6",
        "colab": {
          "base_uri": "https://localhost:8080/",
          "height": 265
        }
      },
      "source": [
        "plt.plot(X, Y, '*') # scatter plot\n",
        "plt.show()"
      ],
      "execution_count": 0,
      "outputs": [
        {
          "output_type": "display_data",
          "data": {
            "image/png": "[encoded data removed]",
            "text/plain": [
              "<Figure size 432x288 with 1 Axes>"
            ]
          },
          "metadata": {
            "tags": [],
            "needs_background": "light"
          }
        }
      ]
    },
    {
      "cell_type": "code",
      "metadata": {
        "id": "NSK2ygttXUZE",
        "colab_type": "code",
        "colab": {}
      },
      "source": [
        "def calculate_loss(X, Y, w_est, b_est):\n",
        "  loss = 0\n",
        "  for x, y in zip(X, Y):\n",
        "    loss += (y - sigmoid(x, w_est, b_est))**2\n",
        "  return loss"
      ],
      "execution_count": 0,
      "outputs": []
    },
    {
      "cell_type": "code",
      "metadata": {
        "id": "Xb8uW8PmWolL",
        "colab_type": "code",
        "outputId": "8ab86abd-dbdc-4b9b-c048-f0b6a9eb65b1",
        "colab": {
          "base_uri": "https://localhost:8080/",
          "height": 136
        }
      },
      "source": [
        "# Weight hypothesis\n",
        "# Bias hypothesis\n",
        "\n",
        "#W = np.linspace(-1, 1, 100)\n",
        "#W = np.linspace(0, 2, 100)\n",
        "#B = np.linspace(-1, 1, 100)\n",
        "\n",
        "#W = np.linspace(0, 2, 101)\n",
        "#B = np.linspace(-1, 1, 101)\n",
        "\n",
        "W = np.linspace(0, 2, 101)\n",
        "B = np.linspace(-1, 1, 102)\n",
        "\n",
        "WW, BB = np.meshgrid(W, B)\n",
        "Loss = np.zeros(WW.shape)\n",
        "print(Loss)"
      ],
      "execution_count": 0,
      "outputs": [
        {
          "output_type": "stream",
          "text": [
            "[[0. 0. 0. ... 0. 0. 0.]\n",
            " [0. 0. 0. ... 0. 0. 0.]\n",
            " [0. 0. 0. ... 0. 0. 0.]\n",
            " ...\n",
            " [0. 0. 0. ... 0. 0. 0.]\n",
            " [0. 0. 0. ... 0. 0. 0.]\n",
            " [0. 0. 0. ... 0. 0. 0.]]\n"
          ],
          "name": "stdout"
        }
      ]
    },
    {
      "cell_type": "code",
      "metadata": {
        "id": "ohDRnQQRYDrO",
        "colab_type": "code",
        "outputId": "94826dcb-fcdd-4ad2-cbb0-98b6a9005209",
        "colab": {
          "base_uri": "https://localhost:8080/",
          "height": 68
        }
      },
      "source": [
        "print(WW.shape)\n",
        "print(BB.shape)\n",
        "print(Loss.shape)\n",
        "\n",
        "#print(WW[101,100])"
      ],
      "execution_count": 0,
      "outputs": [
        {
          "output_type": "stream",
          "text": [
            "(102, 101)\n",
            "(102, 101)\n",
            "(102, 101)\n"
          ],
          "name": "stdout"
        }
      ]
    },
    {
      "cell_type": "code",
      "metadata": {
        "id": "qfToio9oYFba",
        "colab_type": "code",
        "colab": {}
      },
      "source": [
        "# Parameter space w and b where for each of the hypothesis in this parameter\n",
        "# space we compute the loss\n",
        "# WW and BB has same shape\n",
        "# So we can use any of the one to loop over and get the loss at all points\n",
        "for i in range(WW.shape[0]):\n",
        "  for j in range(WW.shape[1]):\n",
        "    Loss[i, j] = calculate_loss(X, Y, WW[i, j], BB[i, j])"
      ],
      "execution_count": 0,
      "outputs": []
    },
    {
      "cell_type": "code",
      "metadata": {
        "id": "YSOazsjGYrvB",
        "colab_type": "code",
        "outputId": "c44c3b6b-c0d5-468d-9fc5-91d6e2a8b95e",
        "colab": {
          "base_uri": "https://localhost:8080/",
          "height": 384
        }
      },
      "source": [
        "print(Loss)\n",
        "#print(Loss[i, j])\n",
        "print(Loss[101, 99]) # loss at row 102 and column 100\n",
        "# This plot is between weight, bias and loss\n",
        "fig = plt.figure()\n",
        "ax = plt.axes(projection='3d')\n",
        "ax.plot_surface(WW, BB, Loss, cmap='viridis')\n",
        "ax.set_xlabel('w')\n",
        "ax.set_ylabel('b')\n",
        "ax.set_zlabel('loss')\n",
        "# first parameter in view_init denotes degree above X1-X2 plane and the\n",
        "# second parameter denotes degree rotated counter-clockwise about Y axis\n",
        "ax.view_init(30, 270) "
      ],
      "execution_count": 0,
      "outputs": [
        {
          "output_type": "stream",
          "text": [
            "[[4.6764455  4.3200227  3.97271387 ... 0.67170795 0.67456573 0.67741582]\n",
            " [4.63123744 4.27183574 3.92231734 ... 0.66615017 0.6690566  0.67195383]\n",
            " [4.58639609 4.2240442  3.87235041 ... 0.66065454 0.6636085  0.66655178]\n",
            " ...\n",
            " [4.54004148 4.17359006 3.8217385  ... 0.53969479 0.5427604  0.54577523]\n",
            " [4.58406323 4.22053069 3.8708826  ... 0.54274118 0.54577869 0.54876536]\n",
            " [4.62845904 4.26787643 3.92046681 ... 0.545847   0.54885638 0.55181487]]\n",
            "0.5488563817007794\n"
          ],
          "name": "stdout"
        },
        {
          "output_type": "display_data",
          "data": {
            "image/png": "[encoded data removed]",
            "text/plain": [
              "<Figure size 432x288 with 1 Axes>"
            ]
          },
          "metadata": {
            "tags": [],
            "needs_background": "light"
          }
        }
      ]
    },
    {
      "cell_type": "code",
      "metadata": {
        "id": "uI7kUPktZGI0",
        "colab_type": "code",
        "outputId": "66413517-1bf9-436a-dd6f-b8a8c9948fcf",
        "colab": {
          "base_uri": "https://localhost:8080/",
          "height": 85
        }
      },
      "source": [
        "# tells the co-ordinate of the number which is minimum in the list\n",
        "# argmin returns the minimum element index by falttening the Loss which is in 2D \n",
        "# array to a 1D array\n",
        "# Flattening of 2D to 1D leads to 102*101 = 10301 indices (10302 elements)\n",
        "# i is row and j is column  \n",
        "ij = np.argmin(Loss)\n",
        "\n",
        "print(i)\n",
        "print(j)\n",
        "print(ij)\n",
        "#print(Loss)\n",
        "print(Loss.shape)\n",
        "i = int(np.floor(ij/Loss.shape[1]))\n",
        "j = int(ij - i * Loss.shape[1])"
      ],
      "execution_count": 0,
      "outputs": [
        {
          "output_type": "stream",
          "text": [
            "101\n",
            "100\n",
            "6388\n",
            "(102, 101)\n"
          ],
          "name": "stdout"
        }
      ]
    },
    {
      "cell_type": "code",
      "metadata": {
        "id": "PCVxwLaWaC3b",
        "colab_type": "code",
        "outputId": "dc546cd6-eff0-4cca-fa26-bcdc0d939248",
        "colab": {
          "base_uri": "https://localhost:8080/",
          "height": 34
        }
      },
      "source": [
        "print(i, j)"
      ],
      "execution_count": 0,
      "outputs": [
        {
          "output_type": "stream",
          "text": [
            "63 25\n"
          ],
          "name": "stdout"
        }
      ]
    },
    {
      "cell_type": "code",
      "metadata": {
        "id": "XmojhVN8afR4",
        "colab_type": "code",
        "outputId": "5187820b-0faa-4fbb-ec33-3397eb52d431",
        "colab": {
          "base_uri": "https://localhost:8080/",
          "height": 34
        }
      },
      "source": [
        "print(WW[i, j], BB[i, j])"
      ],
      "execution_count": 0,
      "outputs": [
        {
          "output_type": "stream",
          "text": [
            "0.5 0.24752475247524752\n"
          ],
          "name": "stdout"
        }
      ]
    },
    {
      "cell_type": "markdown",
      "metadata": {
        "id": "Z-vXGC21ol_b",
        "colab_type": "text"
      },
      "source": [
        "# Class for sigmoid neuron"
      ]
    },
    {
      "cell_type": "code",
      "metadata": {
        "id": "5LTbmV5Oolcf",
        "colab_type": "code",
        "colab": {}
      },
      "source": [
        "class SigmoidNeuron:\n",
        "  \n",
        "  def __init__(self):\n",
        "    self.w = None\n",
        "    self.b = None\n",
        "  \n",
        "  def perceptron(self, x):\n",
        "    # return np.dot(x, self.w.T) + self.b\n",
        "    return np.dot(x, self.w) + self.b\n",
        "  \n",
        "  def sigmoid(self, x):\n",
        "    return 1.0 / (1.0 + np.exp(-x))\n",
        "  \n",
        "  def grad_w(self, x, y):\n",
        "    y_pred = self.sigmoid(self.perceptron(x))\n",
        "    return (y_pred - y) * y_pred * (1 - y_pred) * x\n",
        "\n",
        "  def grad_b(self, x, y):\n",
        "    y_pred = self.sigmoid(self.perceptron(x))\n",
        "    return (y_pred - y) * y_pred * (1 - y_pred)\n",
        "\n",
        "  def fit(self, X, Y, epochs = 1, learning_rate = 1, initialise = True, display_loss = False):\n",
        "    # initialize w and b\n",
        "    if initialise:\n",
        "      # self.w = np.random.randn(1, X.shape[1])\n",
        "      self.w = np.random.randn(X.shape[1])\n",
        "      self.b = 0\n",
        "    \n",
        "    if display_loss:\n",
        "      loss = {}\n",
        "\n",
        "    for i in tqdm_notebook(range(epochs), total = epochs, unit = \"epoch\"):\n",
        "      dw = 0\n",
        "      db = 0\n",
        "      for x, y in zip(X, Y):\n",
        "        dw += self.grad_w(x, y)\n",
        "        db += self.grad_b(x, y)\n",
        "      self.w -= learning_rate * dw\n",
        "      self.b -= learning_rate * db\n",
        "\n",
        "      if display_loss:\n",
        "        Y_pred = self.sigmoid(self.perceptron(X))\n",
        "        loss[i] = mean_squared_error(Y_pred, Y)\n",
        "    \n",
        "    if display_loss:\n",
        "      plt.plot(list(loss.values()))\n",
        "      plt.xlabel('Epochs')\n",
        "      plt.ylabel('Mean Squared Error')\n",
        "      plt.show()\n",
        "\n",
        "  def predict(self, X):\n",
        "    Y_pred = []\n",
        "    for x in X:\n",
        "      y_pred = self.sigmoid(self.perceptron(x))\n",
        "      Y_pred.append(y_pred)\n",
        "    return np.array(Y_pred)"
      ],
      "execution_count": 0,
      "outputs": []
    },
    {
      "cell_type": "markdown",
      "metadata": {
        "id": "5kOonHD6U05d",
        "colab_type": "text"
      },
      "source": [
        "# Fit for toy data"
      ]
    },
    {
      "cell_type": "code",
      "metadata": {
        "id": "07ELTayFOdeJ",
        "colab_type": "code",
        "colab": {}
      },
      "source": [
        "X = np.asarray([[2.5, 2.5], [4, -1], [1, -4], [-3, 1.25], [-2, -4], [1, 5]])\n",
        "Y = [1, 1, 1, 0, 0, 0]"
      ],
      "execution_count": 0,
      "outputs": []
    },
    {
      "cell_type": "code",
      "metadata": {
        "id": "MLiYlipiVdEi",
        "colab_type": "code",
        "colab": {}
      },
      "source": [
        "sn = SigmoidNeuron()\n",
        "sn.fit(X, Y, 1, 0.75, True)"
      ],
      "execution_count": 0,
      "outputs": []
    },
    {
      "cell_type": "code",
      "metadata": {
        "id": "DrbYkfQ4FDI0",
        "colab_type": "code",
        "colab": {}
      },
      "source": [
        "# def plot_sn(X, Y, sn): # plot\n",
        "def plot_sn(X, Y, sn, ax):  # sub plot\n",
        "  # Feature 1 grid\n",
        "  X1 = np.linspace(-10, 10, 100)\n",
        "  # Feature 2 grid\n",
        "  X2 = np.linspace(-10, 10, 100)\n",
        "  XX1, XX2 = np.meshgrid(X1, X2)\n",
        "  # Target\n",
        "  YY = np.zeros(XX1.shape)\n",
        "  for i in range(X2.size):\n",
        "    for j in range(X1.size):\n",
        "      val = np.asarray([X1[j], X2[i]])\n",
        "      YY[i, j] = sn.sigmoid(sn.perceptron(val)) # need to understand this part  \n",
        "      # print(YY[i, j])\n",
        "  # To plot the contours\n",
        "  # plt.contourf(XX1, XX2, YY, cmap = my_cmap, alpha = 0.6) # plot\n",
        "  ax.contourf(XX1, XX2, YY, cmap = my_cmap, alpha = 0.6) # sub plot\n",
        "  # To plot the points here\n",
        "  # plt.scatter(X[:,0], X[:, 1], c = Y, cmap = my_cmap) # plot\n",
        "  ax.scatter(X[:,0], X[:, 1], c = Y, cmap = my_cmap) # sub plot\n",
        "  # plt.plot()\n",
        "  ax.plot()"
      ],
      "execution_count": 0,
      "outputs": []
    },
    {
      "cell_type": "code",
      "metadata": {
        "id": "EBT_QI4d46t2",
        "colab_type": "code",
        "outputId": "c2eff583-a7d5-43b3-f181-0d71b132bd20",
        "colab": {
          "base_uri": "https://localhost:8080/",
          "height": 1000
        }
      },
      "source": [
        "#print(sn.w, sn.b)\n",
        "sn.fit(X, Y, 1, 0.05, True)\n",
        "N = 30\n",
        "plt.figure(figsize=(10, N*5))\n",
        "for i in range(N):\n",
        "  print(sn.w, sn.b)\n",
        "  # i + 1 denotes starting from 1\n",
        "  # ax is handler\n",
        "  ax = plt.subplot(N, 1, i + 1) # plots are divided into rows and columns \n",
        "  # plot_sn(X, Y, sn)\n",
        "\n",
        "  plot_sn(X, Y, sn, ax)\n",
        "  sn.fit(X, Y, 1, 0.5, False)"
      ],
      "execution_count": 0,
      "outputs": [
        {
          "output_type": "stream",
          "text": [
            "[-0.3015015   1.28018132] 0.0003988075857053744\n",
            "[-0.06522804  1.2003375 ] 0.004811987495077209\n",
            "[0.35510905 1.05130845] 0.015645773723572842\n",
            "[0.76815674 0.86729792] 0.003665543688434263\n",
            "[0.87134389 0.71246303] 0.012778812441310133\n",
            "[0.94959325 0.4817611 ] 0.04616322391289422\n",
            "[1.0241606  0.11122117] 0.09998023665406529\n",
            "[ 1.02024152 -0.30410697] 0.07840248108037781\n",
            "[ 1.06800643 -0.39660216] 0.006863259969999522\n",
            "[ 1.15283447 -0.35543971] -0.05322046080619495\n",
            "[ 1.19258061 -0.42289138] -0.1099876760492325\n",
            "[ 1.25631607 -0.40352644] -0.15848358708545882\n",
            "[ 1.2950451  -0.44104152] -0.20389930311568322\n",
            "[ 1.34215217 -0.44210875] -0.24402852229242833\n",
            "[ 1.37947315 -0.46058075] -0.28120798168720407\n",
            "[ 1.41682648 -0.46989438] -0.31504595881130937\n",
            "[ 1.45059609 -0.48152206] -0.34633197285477646\n",
            "[ 1.48251315 -0.49149129] -0.375256044843701\n",
            "[ 1.51240665 -0.50108094] -0.40214044548467165\n",
            "[ 1.54058855 -0.51007469] -0.42721056945116237\n",
            "[ 1.56722086 -0.51858153] -0.450668966211544\n",
            "[ 1.59246039 -0.52664384] -0.4726868926546062\n",
            "[ 1.61644004 -0.53430462] -0.4934118270746974\n",
            "[ 1.63927526 -0.54160065] -0.5129711985643248\n",
            "[ 1.66106678 -0.54856408] -0.5314756862117436\n",
            "[ 1.6819029  -0.55522307] -0.5490218835198092\n",
            "[ 1.70186145 -0.56160246] -0.5656944784415983\n",
            "[ 1.72101133 -0.56772424] -0.5815680453018922\n",
            "[ 1.7394138  -0.57360794] -0.5967085251103075\n",
            "[ 1.75712354 -0.57927101] -0.6111744545786683\n"
          ],
          "name": "stdout"
        },
        {
          "output_type": "display_data",
          "data": {
            "image/png": "[encoded data removed]",
            "text/plain": [
              "<Figure size 720x10800 with 30 Axes>"
            ]
          },
          "metadata": {
            "tags": [],
            "needs_background": "light"
          }
        }
      ]
    },
    {
      "cell_type": "code",
      "metadata": {
        "id": "GBYXWbGsDVt0",
        "colab_type": "code",
        "outputId": "af3e032b-0bed-4ecf-bdd3-f13300dd8d52",
        "colab": {
          "base_uri": "https://localhost:8080/",
          "height": 34
        }
      },
      "source": [
        "# ''' There’s no such rule to distinguish between to use of these two.\n",
        "# Just to clarify, in sigmoid and perceptron, different datasets are used. \n",
        "# Due to which the shape of ‘Y’ is different in these.\n",
        "# We’re using different shapes of W, just to match the ‘Y’ label shape in order \n",
        "# to match the shape of ‘Y_pred’ and ‘Y’.\n",
        "\n",
        "# Please take a look at these points in the code, I hope you’ll get to understand \n",
        "# what I’m trying to say. '''\n",
        "''' Try to do an animation video of the above plots '''    "
      ],
      "execution_count": 0,
      "outputs": [
        {
          "output_type": "execute_result",
          "data": {
            "text/plain": [
              "' Try to do an animation video of the above plots '"
            ]
          },
          "metadata": {
            "tags": []
          },
          "execution_count": 30
        }
      ]
    },
    {
      "cell_type": "markdown",
      "metadata": {
        "id": "deSWyn2JoekL",
        "colab_type": "text"
      },
      "source": [
        "# Real world application of Sigmoid Neuron"
      ]
    },
    {
      "cell_type": "markdown",
      "metadata": {
        "id": "J42_XsAiomhW",
        "colab_type": "text"
      },
      "source": [
        "## Load Data"
      ]
    },
    {
      "cell_type": "code",
      "metadata": {
        "id": "v-h4_dr5d09G",
        "colab_type": "code",
        "colab": {}
      },
      "source": [
        "#!wget https://www.dropbox.com/s/739uo8ebwbic9kb/mobile_cleaned.csv"
      ],
      "execution_count": 0,
      "outputs": []
    },
    {
      "cell_type": "code",
      "metadata": {
        "id": "KIaLeoKnqoEP",
        "colab_type": "code",
        "colab": {}
      },
      "source": [
        "data = pd.read_csv(\"mobile_cleaned.csv\")"
      ],
      "execution_count": 0,
      "outputs": []
    },
    {
      "cell_type": "code",
      "metadata": {
        "id": "Okc_7BPfquWg",
        "colab_type": "code",
        "outputId": "7d7cfb0c-c668-4d44-f9fd-3c6c02813a86",
        "colab": {
          "base_uri": "https://localhost:8080/",
          "height": 321
        }
      },
      "source": [
        "data.head()"
      ],
      "execution_count": 0,
      "outputs": [
        {
          "output_type": "execute_result",
          "data": {
            "text/html": [
              "<div>\n",
              "<style scoped>\n",
              "    .dataframe tbody tr th:only-of-type {\n",
              "        vertical-align: middle;\n",
              "    }\n",
              "\n",
              "    .dataframe tbody tr th {\n",
              "        vertical-align: top;\n",
              "    }\n",
              "\n",
              "    .dataframe thead th {\n",
              "        text-align: right;\n",
              "    }\n",
              "</style>\n",
              "<table border=\"1\" class=\"dataframe\">\n",
              "  <thead>\n",
              "    <tr style=\"text-align: right;\">\n",
              "      <th></th>\n",
              "      <th>PhoneId</th>\n",
              "      <th>Pixel Density</th>\n",
              "      <th>Screen Size</th>\n",
              "      <th>Weight</th>\n",
              "      <th>RAM</th>\n",
              "      <th>Processor_frequency</th>\n",
              "      <th>Screen to Body Ratio (calculated)</th>\n",
              "      <th>Height</th>\n",
              "      <th>Internal Memory</th>\n",
              "      <th>Capacity</th>\n",
              "      <th>Resolution</th>\n",
              "      <th>SIM 2_2G</th>\n",
              "      <th>SIM 2_3G</th>\n",
              "      <th>SIM 2_4G</th>\n",
              "      <th>SIM 2_Other</th>\n",
              "      <th>Num_cores_312</th>\n",
              "      <th>Num_cores_Deca</th>\n",
              "      <th>Num_cores_Dual</th>\n",
              "      <th>Num_cores_Hexa</th>\n",
              "      <th>Num_cores_Octa</th>\n",
              "      <th>Num_cores_Other</th>\n",
              "      <th>Num_cores_Quad</th>\n",
              "      <th>Num_cores_Tru-Octa</th>\n",
              "      <th>Brand_10.or</th>\n",
              "      <th>Brand_Apple</th>\n",
              "      <th>Brand_Asus</th>\n",
              "      <th>Brand_Billion</th>\n",
              "      <th>Brand_Blackberry</th>\n",
              "      <th>Brand_Comio</th>\n",
              "      <th>Brand_Coolpad</th>\n",
              "      <th>Brand_Do</th>\n",
              "      <th>Brand_Gionee</th>\n",
              "      <th>Brand_Google</th>\n",
              "      <th>Brand_HTC</th>\n",
              "      <th>Brand_Honor</th>\n",
              "      <th>Brand_Huawei</th>\n",
              "      <th>Brand_InFocus</th>\n",
              "      <th>Brand_Infinix</th>\n",
              "      <th>Brand_Intex</th>\n",
              "      <th>Brand_Itel</th>\n",
              "      <th>...</th>\n",
              "      <th>Brand_Meizu</th>\n",
              "      <th>Brand_Micromax</th>\n",
              "      <th>Brand_Mobiistar</th>\n",
              "      <th>Brand_Moto</th>\n",
              "      <th>Brand_Motorola</th>\n",
              "      <th>Brand_Nokia</th>\n",
              "      <th>Brand_Nubia</th>\n",
              "      <th>Brand_OPPO</th>\n",
              "      <th>Brand_OnePlus</th>\n",
              "      <th>Brand_Oppo</th>\n",
              "      <th>Brand_Panasonic</th>\n",
              "      <th>Brand_Razer</th>\n",
              "      <th>Brand_Realme</th>\n",
              "      <th>Brand_Reliance</th>\n",
              "      <th>Brand_Samsung</th>\n",
              "      <th>Brand_Sony</th>\n",
              "      <th>Brand_Spice</th>\n",
              "      <th>Brand_Tecno</th>\n",
              "      <th>Brand_Ulefone</th>\n",
              "      <th>Brand_VOTO</th>\n",
              "      <th>Brand_Vivo</th>\n",
              "      <th>Brand_Xiaomi</th>\n",
              "      <th>Brand_Xiaomi Poco</th>\n",
              "      <th>Brand_Yu</th>\n",
              "      <th>Brand_iVooMi</th>\n",
              "      <th>os_name_Android</th>\n",
              "      <th>os_name_Blackberry</th>\n",
              "      <th>os_name_KAI</th>\n",
              "      <th>os_name_Nokia</th>\n",
              "      <th>os_name_Other</th>\n",
              "      <th>os_name_Tizen</th>\n",
              "      <th>os_name_iOS</th>\n",
              "      <th>SIM Slot(s)_Dual SIM, GSM+CDMA</th>\n",
              "      <th>SIM Slot(s)_Dual SIM, GSM+GSM</th>\n",
              "      <th>SIM Slot(s)_Dual SIM, GSM+GSM, Dual VoLTE</th>\n",
              "      <th>SIM Slot(s)_Single SIM, GSM</th>\n",
              "      <th>Sim1_2G</th>\n",
              "      <th>Sim1_3G</th>\n",
              "      <th>Sim1_4G</th>\n",
              "      <th>Rating</th>\n",
              "    </tr>\n",
              "  </thead>\n",
              "  <tbody>\n",
              "    <tr>\n",
              "      <th>0</th>\n",
              "      <td>0</td>\n",
              "      <td>403</td>\n",
              "      <td>6.26</td>\n",
              "      <td>182</td>\n",
              "      <td>4</td>\n",
              "      <td>1.8</td>\n",
              "      <td>80.68</td>\n",
              "      <td>157.9</td>\n",
              "      <td>64</td>\n",
              "      <td>4000</td>\n",
              "      <td>20</td>\n",
              "      <td>0</td>\n",
              "      <td>0</td>\n",
              "      <td>1</td>\n",
              "      <td>0</td>\n",
              "      <td>0</td>\n",
              "      <td>0</td>\n",
              "      <td>0</td>\n",
              "      <td>0</td>\n",
              "      <td>1</td>\n",
              "      <td>0</td>\n",
              "      <td>0</td>\n",
              "      <td>0</td>\n",
              "      <td>0</td>\n",
              "      <td>0</td>\n",
              "      <td>0</td>\n",
              "      <td>0</td>\n",
              "      <td>0</td>\n",
              "      <td>0</td>\n",
              "      <td>0</td>\n",
              "      <td>0</td>\n",
              "      <td>0</td>\n",
              "      <td>0</td>\n",
              "      <td>0</td>\n",
              "      <td>0</td>\n",
              "      <td>0</td>\n",
              "      <td>0</td>\n",
              "      <td>0</td>\n",
              "      <td>0</td>\n",
              "      <td>0</td>\n",
              "      <td>...</td>\n",
              "      <td>0</td>\n",
              "      <td>0</td>\n",
              "      <td>0</td>\n",
              "      <td>0</td>\n",
              "      <td>0</td>\n",
              "      <td>0</td>\n",
              "      <td>0</td>\n",
              "      <td>0</td>\n",
              "      <td>0</td>\n",
              "      <td>0</td>\n",
              "      <td>0</td>\n",
              "      <td>0</td>\n",
              "      <td>0</td>\n",
              "      <td>0</td>\n",
              "      <td>0</td>\n",
              "      <td>0</td>\n",
              "      <td>0</td>\n",
              "      <td>0</td>\n",
              "      <td>0</td>\n",
              "      <td>0</td>\n",
              "      <td>0</td>\n",
              "      <td>1</td>\n",
              "      <td>0</td>\n",
              "      <td>0</td>\n",
              "      <td>0</td>\n",
              "      <td>1</td>\n",
              "      <td>0</td>\n",
              "      <td>0</td>\n",
              "      <td>0</td>\n",
              "      <td>0</td>\n",
              "      <td>0</td>\n",
              "      <td>0</td>\n",
              "      <td>0</td>\n",
              "      <td>0</td>\n",
              "      <td>1</td>\n",
              "      <td>0</td>\n",
              "      <td>0</td>\n",
              "      <td>0</td>\n",
              "      <td>1</td>\n",
              "      <td>4.5</td>\n",
              "    </tr>\n",
              "    <tr>\n",
              "      <th>1</th>\n",
              "      <td>1</td>\n",
              "      <td>271</td>\n",
              "      <td>6.20</td>\n",
              "      <td>168</td>\n",
              "      <td>3</td>\n",
              "      <td>1.8</td>\n",
              "      <td>80.85</td>\n",
              "      <td>156.2</td>\n",
              "      <td>32</td>\n",
              "      <td>4230</td>\n",
              "      <td>8</td>\n",
              "      <td>0</td>\n",
              "      <td>0</td>\n",
              "      <td>1</td>\n",
              "      <td>0</td>\n",
              "      <td>0</td>\n",
              "      <td>0</td>\n",
              "      <td>0</td>\n",
              "      <td>0</td>\n",
              "      <td>1</td>\n",
              "      <td>0</td>\n",
              "      <td>0</td>\n",
              "      <td>0</td>\n",
              "      <td>0</td>\n",
              "      <td>0</td>\n",
              "      <td>0</td>\n",
              "      <td>0</td>\n",
              "      <td>0</td>\n",
              "      <td>0</td>\n",
              "      <td>0</td>\n",
              "      <td>0</td>\n",
              "      <td>0</td>\n",
              "      <td>0</td>\n",
              "      <td>0</td>\n",
              "      <td>0</td>\n",
              "      <td>0</td>\n",
              "      <td>0</td>\n",
              "      <td>0</td>\n",
              "      <td>0</td>\n",
              "      <td>0</td>\n",
              "      <td>...</td>\n",
              "      <td>0</td>\n",
              "      <td>0</td>\n",
              "      <td>0</td>\n",
              "      <td>0</td>\n",
              "      <td>0</td>\n",
              "      <td>0</td>\n",
              "      <td>0</td>\n",
              "      <td>0</td>\n",
              "      <td>0</td>\n",
              "      <td>0</td>\n",
              "      <td>0</td>\n",
              "      <td>0</td>\n",
              "      <td>1</td>\n",
              "      <td>0</td>\n",
              "      <td>0</td>\n",
              "      <td>0</td>\n",
              "      <td>0</td>\n",
              "      <td>0</td>\n",
              "      <td>0</td>\n",
              "      <td>0</td>\n",
              "      <td>0</td>\n",
              "      <td>0</td>\n",
              "      <td>0</td>\n",
              "      <td>0</td>\n",
              "      <td>0</td>\n",
              "      <td>1</td>\n",
              "      <td>0</td>\n",
              "      <td>0</td>\n",
              "      <td>0</td>\n",
              "      <td>0</td>\n",
              "      <td>0</td>\n",
              "      <td>0</td>\n",
              "      <td>0</td>\n",
              "      <td>0</td>\n",
              "      <td>1</td>\n",
              "      <td>0</td>\n",
              "      <td>0</td>\n",
              "      <td>0</td>\n",
              "      <td>1</td>\n",
              "      <td>4.5</td>\n",
              "    </tr>\n",
              "    <tr>\n",
              "      <th>2</th>\n",
              "      <td>2</td>\n",
              "      <td>409</td>\n",
              "      <td>6.30</td>\n",
              "      <td>168</td>\n",
              "      <td>3</td>\n",
              "      <td>2.1</td>\n",
              "      <td>83.68</td>\n",
              "      <td>157.0</td>\n",
              "      <td>32</td>\n",
              "      <td>3500</td>\n",
              "      <td>25</td>\n",
              "      <td>0</td>\n",
              "      <td>0</td>\n",
              "      <td>1</td>\n",
              "      <td>0</td>\n",
              "      <td>0</td>\n",
              "      <td>0</td>\n",
              "      <td>0</td>\n",
              "      <td>0</td>\n",
              "      <td>1</td>\n",
              "      <td>0</td>\n",
              "      <td>0</td>\n",
              "      <td>0</td>\n",
              "      <td>0</td>\n",
              "      <td>0</td>\n",
              "      <td>0</td>\n",
              "      <td>0</td>\n",
              "      <td>0</td>\n",
              "      <td>0</td>\n",
              "      <td>0</td>\n",
              "      <td>0</td>\n",
              "      <td>0</td>\n",
              "      <td>0</td>\n",
              "      <td>0</td>\n",
              "      <td>0</td>\n",
              "      <td>0</td>\n",
              "      <td>0</td>\n",
              "      <td>0</td>\n",
              "      <td>0</td>\n",
              "      <td>0</td>\n",
              "      <td>...</td>\n",
              "      <td>0</td>\n",
              "      <td>0</td>\n",
              "      <td>0</td>\n",
              "      <td>0</td>\n",
              "      <td>0</td>\n",
              "      <td>0</td>\n",
              "      <td>0</td>\n",
              "      <td>0</td>\n",
              "      <td>0</td>\n",
              "      <td>0</td>\n",
              "      <td>0</td>\n",
              "      <td>0</td>\n",
              "      <td>1</td>\n",
              "      <td>0</td>\n",
              "      <td>0</td>\n",
              "      <td>0</td>\n",
              "      <td>0</td>\n",
              "      <td>0</td>\n",
              "      <td>0</td>\n",
              "      <td>0</td>\n",
              "      <td>0</td>\n",
              "      <td>0</td>\n",
              "      <td>0</td>\n",
              "      <td>0</td>\n",
              "      <td>0</td>\n",
              "      <td>1</td>\n",
              "      <td>0</td>\n",
              "      <td>0</td>\n",
              "      <td>0</td>\n",
              "      <td>0</td>\n",
              "      <td>0</td>\n",
              "      <td>0</td>\n",
              "      <td>0</td>\n",
              "      <td>0</td>\n",
              "      <td>1</td>\n",
              "      <td>0</td>\n",
              "      <td>0</td>\n",
              "      <td>0</td>\n",
              "      <td>1</td>\n",
              "      <td>4.4</td>\n",
              "    </tr>\n",
              "    <tr>\n",
              "      <th>3</th>\n",
              "      <td>4</td>\n",
              "      <td>411</td>\n",
              "      <td>6.00</td>\n",
              "      <td>169</td>\n",
              "      <td>4</td>\n",
              "      <td>2.2</td>\n",
              "      <td>74.78</td>\n",
              "      <td>159.8</td>\n",
              "      <td>64</td>\n",
              "      <td>3300</td>\n",
              "      <td>24</td>\n",
              "      <td>0</td>\n",
              "      <td>0</td>\n",
              "      <td>1</td>\n",
              "      <td>0</td>\n",
              "      <td>0</td>\n",
              "      <td>0</td>\n",
              "      <td>0</td>\n",
              "      <td>0</td>\n",
              "      <td>1</td>\n",
              "      <td>0</td>\n",
              "      <td>0</td>\n",
              "      <td>0</td>\n",
              "      <td>0</td>\n",
              "      <td>0</td>\n",
              "      <td>0</td>\n",
              "      <td>0</td>\n",
              "      <td>0</td>\n",
              "      <td>0</td>\n",
              "      <td>0</td>\n",
              "      <td>0</td>\n",
              "      <td>0</td>\n",
              "      <td>0</td>\n",
              "      <td>0</td>\n",
              "      <td>0</td>\n",
              "      <td>0</td>\n",
              "      <td>0</td>\n",
              "      <td>0</td>\n",
              "      <td>0</td>\n",
              "      <td>0</td>\n",
              "      <td>...</td>\n",
              "      <td>0</td>\n",
              "      <td>0</td>\n",
              "      <td>0</td>\n",
              "      <td>0</td>\n",
              "      <td>0</td>\n",
              "      <td>0</td>\n",
              "      <td>0</td>\n",
              "      <td>0</td>\n",
              "      <td>0</td>\n",
              "      <td>0</td>\n",
              "      <td>0</td>\n",
              "      <td>0</td>\n",
              "      <td>0</td>\n",
              "      <td>0</td>\n",
              "      <td>1</td>\n",
              "      <td>0</td>\n",
              "      <td>0</td>\n",
              "      <td>0</td>\n",
              "      <td>0</td>\n",
              "      <td>0</td>\n",
              "      <td>0</td>\n",
              "      <td>0</td>\n",
              "      <td>0</td>\n",
              "      <td>0</td>\n",
              "      <td>0</td>\n",
              "      <td>1</td>\n",
              "      <td>0</td>\n",
              "      <td>0</td>\n",
              "      <td>0</td>\n",
              "      <td>0</td>\n",
              "      <td>0</td>\n",
              "      <td>0</td>\n",
              "      <td>0</td>\n",
              "      <td>1</td>\n",
              "      <td>0</td>\n",
              "      <td>0</td>\n",
              "      <td>0</td>\n",
              "      <td>0</td>\n",
              "      <td>1</td>\n",
              "      <td>4.3</td>\n",
              "    </tr>\n",
              "    <tr>\n",
              "      <th>4</th>\n",
              "      <td>5</td>\n",
              "      <td>396</td>\n",
              "      <td>6.50</td>\n",
              "      <td>175</td>\n",
              "      <td>4</td>\n",
              "      <td>2.2</td>\n",
              "      <td>84.23</td>\n",
              "      <td>160.4</td>\n",
              "      <td>64</td>\n",
              "      <td>3750</td>\n",
              "      <td>16</td>\n",
              "      <td>0</td>\n",
              "      <td>0</td>\n",
              "      <td>1</td>\n",
              "      <td>0</td>\n",
              "      <td>0</td>\n",
              "      <td>0</td>\n",
              "      <td>0</td>\n",
              "      <td>0</td>\n",
              "      <td>1</td>\n",
              "      <td>0</td>\n",
              "      <td>0</td>\n",
              "      <td>0</td>\n",
              "      <td>0</td>\n",
              "      <td>0</td>\n",
              "      <td>0</td>\n",
              "      <td>0</td>\n",
              "      <td>0</td>\n",
              "      <td>0</td>\n",
              "      <td>0</td>\n",
              "      <td>0</td>\n",
              "      <td>0</td>\n",
              "      <td>0</td>\n",
              "      <td>0</td>\n",
              "      <td>1</td>\n",
              "      <td>0</td>\n",
              "      <td>0</td>\n",
              "      <td>0</td>\n",
              "      <td>0</td>\n",
              "      <td>0</td>\n",
              "      <td>...</td>\n",
              "      <td>0</td>\n",
              "      <td>0</td>\n",
              "      <td>0</td>\n",
              "      <td>0</td>\n",
              "      <td>0</td>\n",
              "      <td>0</td>\n",
              "      <td>0</td>\n",
              "      <td>0</td>\n",
              "      <td>0</td>\n",
              "      <td>0</td>\n",
              "      <td>0</td>\n",
              "      <td>0</td>\n",
              "      <td>0</td>\n",
              "      <td>0</td>\n",
              "      <td>0</td>\n",
              "      <td>0</td>\n",
              "      <td>0</td>\n",
              "      <td>0</td>\n",
              "      <td>0</td>\n",
              "      <td>0</td>\n",
              "      <td>0</td>\n",
              "      <td>0</td>\n",
              "      <td>0</td>\n",
              "      <td>0</td>\n",
              "      <td>0</td>\n",
              "      <td>1</td>\n",
              "      <td>0</td>\n",
              "      <td>0</td>\n",
              "      <td>0</td>\n",
              "      <td>0</td>\n",
              "      <td>0</td>\n",
              "      <td>0</td>\n",
              "      <td>0</td>\n",
              "      <td>0</td>\n",
              "      <td>1</td>\n",
              "      <td>0</td>\n",
              "      <td>0</td>\n",
              "      <td>0</td>\n",
              "      <td>1</td>\n",
              "      <td>4.4</td>\n",
              "    </tr>\n",
              "  </tbody>\n",
              "</table>\n",
              "<p>5 rows × 88 columns</p>\n",
              "</div>"
            ],
            "text/plain": [
              "   PhoneId  Pixel Density  Screen Size  ...  Sim1_3G  Sim1_4G  Rating\n",
              "0        0            403         6.26  ...        0        1     4.5\n",
              "1        1            271         6.20  ...        0        1     4.5\n",
              "2        2            409         6.30  ...        0        1     4.4\n",
              "3        4            411         6.00  ...        0        1     4.3\n",
              "4        5            396         6.50  ...        0        1     4.4\n",
              "\n",
              "[5 rows x 88 columns]"
            ]
          },
          "metadata": {
            "tags": []
          },
          "execution_count": 33
        }
      ]
    },
    {
      "cell_type": "code",
      "metadata": {
        "id": "VlfhkXRQqzDS",
        "colab_type": "code",
        "outputId": "3e29317d-7a65-40b1-aff1-ed52222ee028",
        "colab": {
          "base_uri": "https://localhost:8080/",
          "height": 34
        }
      },
      "source": [
        "data.shape # 341 data points and 87 features with 1 target feature"
      ],
      "execution_count": 0,
      "outputs": [
        {
          "output_type": "execute_result",
          "data": {
            "text/plain": [
              "(341, 88)"
            ]
          },
          "metadata": {
            "tags": []
          },
          "execution_count": 34
        }
      ]
    },
    {
      "cell_type": "code",
      "metadata": {
        "id": "LzQY4DuVrtM9",
        "colab_type": "code",
        "colab": {}
      },
      "source": [
        "X = data.drop(\"Rating\", axis = 1)"
      ],
      "execution_count": 0,
      "outputs": []
    },
    {
      "cell_type": "code",
      "metadata": {
        "id": "V3_sg_ZFtB6W",
        "colab_type": "code",
        "outputId": "909e76f5-1461-4eba-9664-67c9fbf97814",
        "colab": {
          "base_uri": "https://localhost:8080/",
          "height": 321
        }
      },
      "source": [
        "X.head()"
      ],
      "execution_count": 0,
      "outputs": [
        {
          "output_type": "execute_result",
          "data": {
            "text/html": [
              "<div>\n",
              "<style scoped>\n",
              "    .dataframe tbody tr th:only-of-type {\n",
              "        vertical-align: middle;\n",
              "    }\n",
              "\n",
              "    .dataframe tbody tr th {\n",
              "        vertical-align: top;\n",
              "    }\n",
              "\n",
              "    .dataframe thead th {\n",
              "        text-align: right;\n",
              "    }\n",
              "</style>\n",
              "<table border=\"1\" class=\"dataframe\">\n",
              "  <thead>\n",
              "    <tr style=\"text-align: right;\">\n",
              "      <th></th>\n",
              "      <th>PhoneId</th>\n",
              "      <th>Pixel Density</th>\n",
              "      <th>Screen Size</th>\n",
              "      <th>Weight</th>\n",
              "      <th>RAM</th>\n",
              "      <th>Processor_frequency</th>\n",
              "      <th>Screen to Body Ratio (calculated)</th>\n",
              "      <th>Height</th>\n",
              "      <th>Internal Memory</th>\n",
              "      <th>Capacity</th>\n",
              "      <th>Resolution</th>\n",
              "      <th>SIM 2_2G</th>\n",
              "      <th>SIM 2_3G</th>\n",
              "      <th>SIM 2_4G</th>\n",
              "      <th>SIM 2_Other</th>\n",
              "      <th>Num_cores_312</th>\n",
              "      <th>Num_cores_Deca</th>\n",
              "      <th>Num_cores_Dual</th>\n",
              "      <th>Num_cores_Hexa</th>\n",
              "      <th>Num_cores_Octa</th>\n",
              "      <th>Num_cores_Other</th>\n",
              "      <th>Num_cores_Quad</th>\n",
              "      <th>Num_cores_Tru-Octa</th>\n",
              "      <th>Brand_10.or</th>\n",
              "      <th>Brand_Apple</th>\n",
              "      <th>Brand_Asus</th>\n",
              "      <th>Brand_Billion</th>\n",
              "      <th>Brand_Blackberry</th>\n",
              "      <th>Brand_Comio</th>\n",
              "      <th>Brand_Coolpad</th>\n",
              "      <th>Brand_Do</th>\n",
              "      <th>Brand_Gionee</th>\n",
              "      <th>Brand_Google</th>\n",
              "      <th>Brand_HTC</th>\n",
              "      <th>Brand_Honor</th>\n",
              "      <th>Brand_Huawei</th>\n",
              "      <th>Brand_InFocus</th>\n",
              "      <th>Brand_Infinix</th>\n",
              "      <th>Brand_Intex</th>\n",
              "      <th>Brand_Itel</th>\n",
              "      <th>...</th>\n",
              "      <th>Brand_Lyf</th>\n",
              "      <th>Brand_Meizu</th>\n",
              "      <th>Brand_Micromax</th>\n",
              "      <th>Brand_Mobiistar</th>\n",
              "      <th>Brand_Moto</th>\n",
              "      <th>Brand_Motorola</th>\n",
              "      <th>Brand_Nokia</th>\n",
              "      <th>Brand_Nubia</th>\n",
              "      <th>Brand_OPPO</th>\n",
              "      <th>Brand_OnePlus</th>\n",
              "      <th>Brand_Oppo</th>\n",
              "      <th>Brand_Panasonic</th>\n",
              "      <th>Brand_Razer</th>\n",
              "      <th>Brand_Realme</th>\n",
              "      <th>Brand_Reliance</th>\n",
              "      <th>Brand_Samsung</th>\n",
              "      <th>Brand_Sony</th>\n",
              "      <th>Brand_Spice</th>\n",
              "      <th>Brand_Tecno</th>\n",
              "      <th>Brand_Ulefone</th>\n",
              "      <th>Brand_VOTO</th>\n",
              "      <th>Brand_Vivo</th>\n",
              "      <th>Brand_Xiaomi</th>\n",
              "      <th>Brand_Xiaomi Poco</th>\n",
              "      <th>Brand_Yu</th>\n",
              "      <th>Brand_iVooMi</th>\n",
              "      <th>os_name_Android</th>\n",
              "      <th>os_name_Blackberry</th>\n",
              "      <th>os_name_KAI</th>\n",
              "      <th>os_name_Nokia</th>\n",
              "      <th>os_name_Other</th>\n",
              "      <th>os_name_Tizen</th>\n",
              "      <th>os_name_iOS</th>\n",
              "      <th>SIM Slot(s)_Dual SIM, GSM+CDMA</th>\n",
              "      <th>SIM Slot(s)_Dual SIM, GSM+GSM</th>\n",
              "      <th>SIM Slot(s)_Dual SIM, GSM+GSM, Dual VoLTE</th>\n",
              "      <th>SIM Slot(s)_Single SIM, GSM</th>\n",
              "      <th>Sim1_2G</th>\n",
              "      <th>Sim1_3G</th>\n",
              "      <th>Sim1_4G</th>\n",
              "    </tr>\n",
              "  </thead>\n",
              "  <tbody>\n",
              "    <tr>\n",
              "      <th>0</th>\n",
              "      <td>0</td>\n",
              "      <td>403</td>\n",
              "      <td>6.26</td>\n",
              "      <td>182</td>\n",
              "      <td>4</td>\n",
              "      <td>1.8</td>\n",
              "      <td>80.68</td>\n",
              "      <td>157.9</td>\n",
              "      <td>64</td>\n",
              "      <td>4000</td>\n",
              "      <td>20</td>\n",
              "      <td>0</td>\n",
              "      <td>0</td>\n",
              "      <td>1</td>\n",
              "      <td>0</td>\n",
              "      <td>0</td>\n",
              "      <td>0</td>\n",
              "      <td>0</td>\n",
              "      <td>0</td>\n",
              "      <td>1</td>\n",
              "      <td>0</td>\n",
              "      <td>0</td>\n",
              "      <td>0</td>\n",
              "      <td>0</td>\n",
              "      <td>0</td>\n",
              "      <td>0</td>\n",
              "      <td>0</td>\n",
              "      <td>0</td>\n",
              "      <td>0</td>\n",
              "      <td>0</td>\n",
              "      <td>0</td>\n",
              "      <td>0</td>\n",
              "      <td>0</td>\n",
              "      <td>0</td>\n",
              "      <td>0</td>\n",
              "      <td>0</td>\n",
              "      <td>0</td>\n",
              "      <td>0</td>\n",
              "      <td>0</td>\n",
              "      <td>0</td>\n",
              "      <td>...</td>\n",
              "      <td>0</td>\n",
              "      <td>0</td>\n",
              "      <td>0</td>\n",
              "      <td>0</td>\n",
              "      <td>0</td>\n",
              "      <td>0</td>\n",
              "      <td>0</td>\n",
              "      <td>0</td>\n",
              "      <td>0</td>\n",
              "      <td>0</td>\n",
              "      <td>0</td>\n",
              "      <td>0</td>\n",
              "      <td>0</td>\n",
              "      <td>0</td>\n",
              "      <td>0</td>\n",
              "      <td>0</td>\n",
              "      <td>0</td>\n",
              "      <td>0</td>\n",
              "      <td>0</td>\n",
              "      <td>0</td>\n",
              "      <td>0</td>\n",
              "      <td>0</td>\n",
              "      <td>1</td>\n",
              "      <td>0</td>\n",
              "      <td>0</td>\n",
              "      <td>0</td>\n",
              "      <td>1</td>\n",
              "      <td>0</td>\n",
              "      <td>0</td>\n",
              "      <td>0</td>\n",
              "      <td>0</td>\n",
              "      <td>0</td>\n",
              "      <td>0</td>\n",
              "      <td>0</td>\n",
              "      <td>0</td>\n",
              "      <td>1</td>\n",
              "      <td>0</td>\n",
              "      <td>0</td>\n",
              "      <td>0</td>\n",
              "      <td>1</td>\n",
              "    </tr>\n",
              "    <tr>\n",
              "      <th>1</th>\n",
              "      <td>1</td>\n",
              "      <td>271</td>\n",
              "      <td>6.20</td>\n",
              "      <td>168</td>\n",
              "      <td>3</td>\n",
              "      <td>1.8</td>\n",
              "      <td>80.85</td>\n",
              "      <td>156.2</td>\n",
              "      <td>32</td>\n",
              "      <td>4230</td>\n",
              "      <td>8</td>\n",
              "      <td>0</td>\n",
              "      <td>0</td>\n",
              "      <td>1</td>\n",
              "      <td>0</td>\n",
              "      <td>0</td>\n",
              "      <td>0</td>\n",
              "      <td>0</td>\n",
              "      <td>0</td>\n",
              "      <td>1</td>\n",
              "      <td>0</td>\n",
              "      <td>0</td>\n",
              "      <td>0</td>\n",
              "      <td>0</td>\n",
              "      <td>0</td>\n",
              "      <td>0</td>\n",
              "      <td>0</td>\n",
              "      <td>0</td>\n",
              "      <td>0</td>\n",
              "      <td>0</td>\n",
              "      <td>0</td>\n",
              "      <td>0</td>\n",
              "      <td>0</td>\n",
              "      <td>0</td>\n",
              "      <td>0</td>\n",
              "      <td>0</td>\n",
              "      <td>0</td>\n",
              "      <td>0</td>\n",
              "      <td>0</td>\n",
              "      <td>0</td>\n",
              "      <td>...</td>\n",
              "      <td>0</td>\n",
              "      <td>0</td>\n",
              "      <td>0</td>\n",
              "      <td>0</td>\n",
              "      <td>0</td>\n",
              "      <td>0</td>\n",
              "      <td>0</td>\n",
              "      <td>0</td>\n",
              "      <td>0</td>\n",
              "      <td>0</td>\n",
              "      <td>0</td>\n",
              "      <td>0</td>\n",
              "      <td>0</td>\n",
              "      <td>1</td>\n",
              "      <td>0</td>\n",
              "      <td>0</td>\n",
              "      <td>0</td>\n",
              "      <td>0</td>\n",
              "      <td>0</td>\n",
              "      <td>0</td>\n",
              "      <td>0</td>\n",
              "      <td>0</td>\n",
              "      <td>0</td>\n",
              "      <td>0</td>\n",
              "      <td>0</td>\n",
              "      <td>0</td>\n",
              "      <td>1</td>\n",
              "      <td>0</td>\n",
              "      <td>0</td>\n",
              "      <td>0</td>\n",
              "      <td>0</td>\n",
              "      <td>0</td>\n",
              "      <td>0</td>\n",
              "      <td>0</td>\n",
              "      <td>0</td>\n",
              "      <td>1</td>\n",
              "      <td>0</td>\n",
              "      <td>0</td>\n",
              "      <td>0</td>\n",
              "      <td>1</td>\n",
              "    </tr>\n",
              "    <tr>\n",
              "      <th>2</th>\n",
              "      <td>2</td>\n",
              "      <td>409</td>\n",
              "      <td>6.30</td>\n",
              "      <td>168</td>\n",
              "      <td>3</td>\n",
              "      <td>2.1</td>\n",
              "      <td>83.68</td>\n",
              "      <td>157.0</td>\n",
              "      <td>32</td>\n",
              "      <td>3500</td>\n",
              "      <td>25</td>\n",
              "      <td>0</td>\n",
              "      <td>0</td>\n",
              "      <td>1</td>\n",
              "      <td>0</td>\n",
              "      <td>0</td>\n",
              "      <td>0</td>\n",
              "      <td>0</td>\n",
              "      <td>0</td>\n",
              "      <td>1</td>\n",
              "      <td>0</td>\n",
              "      <td>0</td>\n",
              "      <td>0</td>\n",
              "      <td>0</td>\n",
              "      <td>0</td>\n",
              "      <td>0</td>\n",
              "      <td>0</td>\n",
              "      <td>0</td>\n",
              "      <td>0</td>\n",
              "      <td>0</td>\n",
              "      <td>0</td>\n",
              "      <td>0</td>\n",
              "      <td>0</td>\n",
              "      <td>0</td>\n",
              "      <td>0</td>\n",
              "      <td>0</td>\n",
              "      <td>0</td>\n",
              "      <td>0</td>\n",
              "      <td>0</td>\n",
              "      <td>0</td>\n",
              "      <td>...</td>\n",
              "      <td>0</td>\n",
              "      <td>0</td>\n",
              "      <td>0</td>\n",
              "      <td>0</td>\n",
              "      <td>0</td>\n",
              "      <td>0</td>\n",
              "      <td>0</td>\n",
              "      <td>0</td>\n",
              "      <td>0</td>\n",
              "      <td>0</td>\n",
              "      <td>0</td>\n",
              "      <td>0</td>\n",
              "      <td>0</td>\n",
              "      <td>1</td>\n",
              "      <td>0</td>\n",
              "      <td>0</td>\n",
              "      <td>0</td>\n",
              "      <td>0</td>\n",
              "      <td>0</td>\n",
              "      <td>0</td>\n",
              "      <td>0</td>\n",
              "      <td>0</td>\n",
              "      <td>0</td>\n",
              "      <td>0</td>\n",
              "      <td>0</td>\n",
              "      <td>0</td>\n",
              "      <td>1</td>\n",
              "      <td>0</td>\n",
              "      <td>0</td>\n",
              "      <td>0</td>\n",
              "      <td>0</td>\n",
              "      <td>0</td>\n",
              "      <td>0</td>\n",
              "      <td>0</td>\n",
              "      <td>0</td>\n",
              "      <td>1</td>\n",
              "      <td>0</td>\n",
              "      <td>0</td>\n",
              "      <td>0</td>\n",
              "      <td>1</td>\n",
              "    </tr>\n",
              "    <tr>\n",
              "      <th>3</th>\n",
              "      <td>4</td>\n",
              "      <td>411</td>\n",
              "      <td>6.00</td>\n",
              "      <td>169</td>\n",
              "      <td>4</td>\n",
              "      <td>2.2</td>\n",
              "      <td>74.78</td>\n",
              "      <td>159.8</td>\n",
              "      <td>64</td>\n",
              "      <td>3300</td>\n",
              "      <td>24</td>\n",
              "      <td>0</td>\n",
              "      <td>0</td>\n",
              "      <td>1</td>\n",
              "      <td>0</td>\n",
              "      <td>0</td>\n",
              "      <td>0</td>\n",
              "      <td>0</td>\n",
              "      <td>0</td>\n",
              "      <td>1</td>\n",
              "      <td>0</td>\n",
              "      <td>0</td>\n",
              "      <td>0</td>\n",
              "      <td>0</td>\n",
              "      <td>0</td>\n",
              "      <td>0</td>\n",
              "      <td>0</td>\n",
              "      <td>0</td>\n",
              "      <td>0</td>\n",
              "      <td>0</td>\n",
              "      <td>0</td>\n",
              "      <td>0</td>\n",
              "      <td>0</td>\n",
              "      <td>0</td>\n",
              "      <td>0</td>\n",
              "      <td>0</td>\n",
              "      <td>0</td>\n",
              "      <td>0</td>\n",
              "      <td>0</td>\n",
              "      <td>0</td>\n",
              "      <td>...</td>\n",
              "      <td>0</td>\n",
              "      <td>0</td>\n",
              "      <td>0</td>\n",
              "      <td>0</td>\n",
              "      <td>0</td>\n",
              "      <td>0</td>\n",
              "      <td>0</td>\n",
              "      <td>0</td>\n",
              "      <td>0</td>\n",
              "      <td>0</td>\n",
              "      <td>0</td>\n",
              "      <td>0</td>\n",
              "      <td>0</td>\n",
              "      <td>0</td>\n",
              "      <td>0</td>\n",
              "      <td>1</td>\n",
              "      <td>0</td>\n",
              "      <td>0</td>\n",
              "      <td>0</td>\n",
              "      <td>0</td>\n",
              "      <td>0</td>\n",
              "      <td>0</td>\n",
              "      <td>0</td>\n",
              "      <td>0</td>\n",
              "      <td>0</td>\n",
              "      <td>0</td>\n",
              "      <td>1</td>\n",
              "      <td>0</td>\n",
              "      <td>0</td>\n",
              "      <td>0</td>\n",
              "      <td>0</td>\n",
              "      <td>0</td>\n",
              "      <td>0</td>\n",
              "      <td>0</td>\n",
              "      <td>1</td>\n",
              "      <td>0</td>\n",
              "      <td>0</td>\n",
              "      <td>0</td>\n",
              "      <td>0</td>\n",
              "      <td>1</td>\n",
              "    </tr>\n",
              "    <tr>\n",
              "      <th>4</th>\n",
              "      <td>5</td>\n",
              "      <td>396</td>\n",
              "      <td>6.50</td>\n",
              "      <td>175</td>\n",
              "      <td>4</td>\n",
              "      <td>2.2</td>\n",
              "      <td>84.23</td>\n",
              "      <td>160.4</td>\n",
              "      <td>64</td>\n",
              "      <td>3750</td>\n",
              "      <td>16</td>\n",
              "      <td>0</td>\n",
              "      <td>0</td>\n",
              "      <td>1</td>\n",
              "      <td>0</td>\n",
              "      <td>0</td>\n",
              "      <td>0</td>\n",
              "      <td>0</td>\n",
              "      <td>0</td>\n",
              "      <td>1</td>\n",
              "      <td>0</td>\n",
              "      <td>0</td>\n",
              "      <td>0</td>\n",
              "      <td>0</td>\n",
              "      <td>0</td>\n",
              "      <td>0</td>\n",
              "      <td>0</td>\n",
              "      <td>0</td>\n",
              "      <td>0</td>\n",
              "      <td>0</td>\n",
              "      <td>0</td>\n",
              "      <td>0</td>\n",
              "      <td>0</td>\n",
              "      <td>0</td>\n",
              "      <td>1</td>\n",
              "      <td>0</td>\n",
              "      <td>0</td>\n",
              "      <td>0</td>\n",
              "      <td>0</td>\n",
              "      <td>0</td>\n",
              "      <td>...</td>\n",
              "      <td>0</td>\n",
              "      <td>0</td>\n",
              "      <td>0</td>\n",
              "      <td>0</td>\n",
              "      <td>0</td>\n",
              "      <td>0</td>\n",
              "      <td>0</td>\n",
              "      <td>0</td>\n",
              "      <td>0</td>\n",
              "      <td>0</td>\n",
              "      <td>0</td>\n",
              "      <td>0</td>\n",
              "      <td>0</td>\n",
              "      <td>0</td>\n",
              "      <td>0</td>\n",
              "      <td>0</td>\n",
              "      <td>0</td>\n",
              "      <td>0</td>\n",
              "      <td>0</td>\n",
              "      <td>0</td>\n",
              "      <td>0</td>\n",
              "      <td>0</td>\n",
              "      <td>0</td>\n",
              "      <td>0</td>\n",
              "      <td>0</td>\n",
              "      <td>0</td>\n",
              "      <td>1</td>\n",
              "      <td>0</td>\n",
              "      <td>0</td>\n",
              "      <td>0</td>\n",
              "      <td>0</td>\n",
              "      <td>0</td>\n",
              "      <td>0</td>\n",
              "      <td>0</td>\n",
              "      <td>0</td>\n",
              "      <td>1</td>\n",
              "      <td>0</td>\n",
              "      <td>0</td>\n",
              "      <td>0</td>\n",
              "      <td>1</td>\n",
              "    </tr>\n",
              "  </tbody>\n",
              "</table>\n",
              "<p>5 rows × 87 columns</p>\n",
              "</div>"
            ],
            "text/plain": [
              "   PhoneId  Pixel Density  Screen Size  ...  Sim1_2G  Sim1_3G  Sim1_4G\n",
              "0        0            403         6.26  ...        0        0        1\n",
              "1        1            271         6.20  ...        0        0        1\n",
              "2        2            409         6.30  ...        0        0        1\n",
              "3        4            411         6.00  ...        0        0        1\n",
              "4        5            396         6.50  ...        0        0        1\n",
              "\n",
              "[5 rows x 87 columns]"
            ]
          },
          "metadata": {
            "tags": []
          },
          "execution_count": 36
        }
      ]
    },
    {
      "cell_type": "code",
      "metadata": {
        "id": "OzkgQ4ousqUj",
        "colab_type": "code",
        "colab": {}
      },
      "source": [
        "Y = data[\"Rating\"]"
      ],
      "execution_count": 0,
      "outputs": []
    },
    {
      "cell_type": "code",
      "metadata": {
        "id": "eUk4XZgxuQyC",
        "colab_type": "code",
        "outputId": "f0f241f0-22f1-41a4-bd95-7b89d3072a6f",
        "colab": {
          "base_uri": "https://localhost:8080/",
          "height": 34
        }
      },
      "source": [
        "type(Y)"
      ],
      "execution_count": 0,
      "outputs": [
        {
          "output_type": "execute_result",
          "data": {
            "text/plain": [
              "pandas.core.series.Series"
            ]
          },
          "metadata": {
            "tags": []
          },
          "execution_count": 38
        }
      ]
    },
    {
      "cell_type": "code",
      "metadata": {
        "id": "ypeotMKqszx-",
        "colab_type": "code",
        "outputId": "9aabc172-7adb-41d5-a80d-d3dfc3a6b2fc",
        "colab": {
          "base_uri": "https://localhost:8080/",
          "height": 476
        }
      },
      "source": [
        "Y.values # converting the series data as array for easier numerical computation"
      ],
      "execution_count": 0,
      "outputs": [
        {
          "output_type": "execute_result",
          "data": {
            "text/plain": [
              "array([4.5, 4.5, 4.4, 4.3, 4.4, 4.5, 4.3, 4.1, 4.3, 4.5, 4.5, 4. , 4.4,\n",
              "       4.4, 4.4, 4.4, 4.5, 4.4, 4.4, 4.4, 4.4, 4.5, 4.4, 4.3, 4.2, 4.3,\n",
              "       4.3, 4.6, 4.4, 4.5, 3.9, 4.2, 4.3, 4.2, 4.3, 4.3, 4.2, 4.4, 4.1,\n",
              "       3.8, 4.4, 4.6, 4.3, 4.5, 4.5, 4.2, 3.9, 4.3, 4. , 4.3, 4.3, 3.9,\n",
              "       4.2, 4.5, 4. , 4.6, 4.2, 2.8, 4.4, 4.3, 4.2, 4.4, 4.4, 4. , 4.4,\n",
              "       4.4, 4.1, 4.5, 4.3, 3.9, 4.3, 4.1, 4.1, 4.2, 3.4, 4.2, 4.6, 3.8,\n",
              "       4.3, 4.5, 4.2, 4.5, 4.5, 4. , 4.1, 4.4, 4.5, 4.1, 4.5, 4.3, 4.5,\n",
              "       3.9, 3.9, 4.4, 4.4, 4.4, 4. , 4.1, 4.1, 4.4, 4.3, 4.3, 4.2, 4.3,\n",
              "       3.4, 4.3, 4.3, 4.2, 4.6, 4.8, 4.4, 3.4, 3.7, 4.2, 4.3, 4.4, 4.3,\n",
              "       4.2, 4.1, 4.3, 4. , 3.9, 4.4, 4.4, 3.9, 3.1, 3.7, 4.2, 4.4, 4. ,\n",
              "       4. , 4.1, 4.2, 4.3, 4.2, 4.3, 4.1, 3.6, 4.1, 4. , 3.8, 3.7, 4.3,\n",
              "       4.1, 4.1, 4.5, 4. , 4.3, 3.6, 4.1, 4.5, 3.5, 4. , 4.3, 4.6, 3.5,\n",
              "       3.9, 4.1, 3.9, 3.8, 4.4, 4.3, 4. , 3.9, 4.4, 4.7, 3.9, 4.5, 3.7,\n",
              "       4. , 4.3, 4.1, 4.8, 4.1, 4. , 4.7, 4. , 4.1, 4. , 3.4, 4.1, 3.9,\n",
              "       3.1, 4.1, 3.7, 3.4, 3.9, 4.3, 4.1, 3.7, 3.8, 4. , 3.8, 4.6, 3.4,\n",
              "       3.3, 3.2, 3.5, 4.3, 4.1, 4. , 3.8, 4.3, 4.1, 4. , 3.8, 3.8, 3.9,\n",
              "       4.1, 3.7, 4.2, 4. , 4.2, 4.4, 4.1, 3.4, 4.2, 4.4, 3.9, 3.9, 4.4,\n",
              "       4.2, 4.5, 4.5, 4.2, 4. , 4.2, 3.5, 3.7, 4.3, 5. , 3.5, 4.4, 3.7,\n",
              "       4.3, 3.9, 4.3, 3.8, 3.8, 4.3, 5. , 4.1, 3. , 4.4, 3. , 4. , 4. ,\n",
              "       3.9, 3.9, 4.2, 2.8, 4.3, 3.3, 4.3, 4. , 4.2, 4.1, 4.2, 3.6, 3.5,\n",
              "       4.1, 4.6, 3.9, 4. , 3.8, 4.1, 2.5, 4.2, 3.7, 3.9, 4.1, 3. , 3.8,\n",
              "       4.6, 4.2, 3.4, 3.9, 4.5, 4.1, 3.3, 4.1, 4. , 3.3, 4.4, 3.8, 3.9,\n",
              "       3.6, 4.4, 4.1, 4.1, 4. , 3.5, 3. , 4.2, 4. , 3.9, 3.5, 3.4, 3.4,\n",
              "       4. , 3.6, 4. , 3.5, 4. , 4. , 3.7, 4.6, 4. , 4.1, 4. , 3.5, 4.1,\n",
              "       3.7, 4.4, 4.3, 4.1, 3.9, 3.4, 3.3, 3.9, 4. , 4.4, 4.5, 4.2, 3.8,\n",
              "       3.7, 4.2, 4.1, 4. , 3.9, 3.7, 4.2, 4. , 3.6, 3.6, 4.4, 3.8, 3.9,\n",
              "       4.1, 3.6, 4.3])"
            ]
          },
          "metadata": {
            "tags": []
          },
          "execution_count": 39
        }
      ]
    },
    {
      "cell_type": "code",
      "metadata": {
        "id": "RAvWkvRQs2De",
        "colab_type": "code",
        "outputId": "5016cf57-eb11-4304-aabd-45ccba45d91f",
        "colab": {
          "base_uri": "https://localhost:8080/",
          "height": 34
        }
      },
      "source": [
        "Y.head()\n",
        "print(type(Y.values))"
      ],
      "execution_count": 0,
      "outputs": [
        {
          "output_type": "stream",
          "text": [
            "<class 'numpy.ndarray'>\n"
          ],
          "name": "stdout"
        }
      ]
    },
    {
      "cell_type": "code",
      "metadata": {
        "id": "aotCUd-ms3Hv",
        "colab_type": "code",
        "colab": {}
      },
      "source": [
        "''' Real valued Y is available and a binaized Y available\n",
        "We train the model with Real valued Y because sigmoid neuron can capture the real\n",
        "valued output but eventually compute accuracy on the binarized value of Y '''\n",
        "\n",
        "threshold = 4.2\n",
        "data[\"Class\"] = data[\"Rating\"] >= threshold"
      ],
      "execution_count": 0,
      "outputs": []
    },
    {
      "cell_type": "code",
      "metadata": {
        "id": "2kGqt0SHvhOc",
        "colab_type": "code",
        "outputId": "2d492ce0-5cfa-47a8-872b-8c13aec3142e",
        "colab": {
          "base_uri": "https://localhost:8080/",
          "height": 221
        }
      },
      "source": [
        "# This outputs boolean data\n",
        "data[\"Class\"]"
      ],
      "execution_count": 0,
      "outputs": [
        {
          "output_type": "execute_result",
          "data": {
            "text/plain": [
              "0       True\n",
              "1       True\n",
              "2       True\n",
              "3       True\n",
              "4       True\n",
              "       ...  \n",
              "336    False\n",
              "337    False\n",
              "338    False\n",
              "339    False\n",
              "340     True\n",
              "Name: Class, Length: 341, dtype: bool"
            ]
          },
          "metadata": {
            "tags": []
          },
          "execution_count": 42
        }
      ]
    },
    {
      "cell_type": "code",
      "metadata": {
        "id": "w9jKCxiXvllc",
        "colab_type": "code",
        "colab": {}
      },
      "source": [
        "# We will convert them into integer\n",
        "data[\"Class\"] = data[\"Class\"].astype(np.int)"
      ],
      "execution_count": 0,
      "outputs": []
    },
    {
      "cell_type": "code",
      "metadata": {
        "id": "vPplGnqzv859",
        "colab_type": "code",
        "outputId": "ddbfc59b-16ba-491c-dc0e-5efefb7cea11",
        "colab": {
          "base_uri": "https://localhost:8080/",
          "height": 68
        }
      },
      "source": [
        "# Let us see the class counts to understand if the target variable is skewed or not\n",
        "data[\"Class\"].value_counts()\n",
        "print(data[\"Class\"].value_counts(normalize = True)) # prints in fraction"
      ],
      "execution_count": 0,
      "outputs": [
        {
          "output_type": "stream",
          "text": [
            "0    0.533724\n",
            "1    0.466276\n",
            "Name: Class, dtype: float64\n"
          ],
          "name": "stdout"
        }
      ]
    },
    {
      "cell_type": "code",
      "metadata": {
        "id": "Lu-czNlyv1Wi",
        "colab_type": "code",
        "colab": {}
      },
      "source": [
        "# we adjusted the threshold value from 4 to 4.2 just to mkae the baseline \n",
        "# for model with balanced set of classes\n",
        "Y_binarised = data[\"Class\"].values # binarised output for threshold 4.2 "
      ],
      "execution_count": 0,
      "outputs": []
    },
    {
      "cell_type": "code",
      "metadata": {
        "id": "0gNmeZ4_v4-8",
        "colab_type": "code",
        "outputId": "42cc345b-a7bf-43aa-ea3d-968239d0f82a",
        "colab": {
          "base_uri": "https://localhost:8080/",
          "height": 289
        }
      },
      "source": [
        "Y_binarised"
      ],
      "execution_count": 0,
      "outputs": [
        {
          "output_type": "execute_result",
          "data": {
            "text/plain": [
              "array([1, 1, 1, 1, 1, 1, 1, 0, 1, 1, 1, 0, 1, 1, 1, 1, 1, 1, 1, 1, 1, 1,\n",
              "       1, 1, 1, 1, 1, 1, 1, 1, 0, 1, 1, 1, 1, 1, 1, 1, 0, 0, 1, 1, 1, 1,\n",
              "       1, 1, 0, 1, 0, 1, 1, 0, 1, 1, 0, 1, 1, 0, 1, 1, 1, 1, 1, 0, 1, 1,\n",
              "       0, 1, 1, 0, 1, 0, 0, 1, 0, 1, 1, 0, 1, 1, 1, 1, 1, 0, 0, 1, 1, 0,\n",
              "       1, 1, 1, 0, 0, 1, 1, 1, 0, 0, 0, 1, 1, 1, 1, 1, 0, 1, 1, 1, 1, 1,\n",
              "       1, 0, 0, 1, 1, 1, 1, 1, 0, 1, 0, 0, 1, 1, 0, 0, 0, 1, 1, 0, 0, 0,\n",
              "       1, 1, 1, 1, 0, 0, 0, 0, 0, 0, 1, 0, 0, 1, 0, 1, 0, 0, 1, 0, 0, 1,\n",
              "       1, 0, 0, 0, 0, 0, 1, 1, 0, 0, 1, 1, 0, 1, 0, 0, 1, 0, 1, 0, 0, 1,\n",
              "       0, 0, 0, 0, 0, 0, 0, 0, 0, 0, 0, 1, 0, 0, 0, 0, 0, 1, 0, 0, 0, 0,\n",
              "       1, 0, 0, 0, 1, 0, 0, 0, 0, 0, 0, 0, 1, 0, 1, 1, 0, 0, 1, 1, 0, 0,\n",
              "       1, 1, 1, 1, 1, 0, 1, 0, 0, 1, 1, 0, 1, 0, 1, 0, 1, 0, 0, 1, 1, 0,\n",
              "       0, 1, 0, 0, 0, 0, 0, 1, 0, 1, 0, 1, 0, 1, 0, 1, 0, 0, 0, 1, 0, 0,\n",
              "       0, 0, 0, 1, 0, 0, 0, 0, 0, 1, 1, 0, 0, 1, 0, 0, 0, 0, 0, 1, 0, 0,\n",
              "       0, 1, 0, 0, 0, 0, 0, 1, 0, 0, 0, 0, 0, 0, 0, 0, 0, 0, 0, 0, 1, 0,\n",
              "       0, 0, 0, 0, 0, 1, 1, 0, 0, 0, 0, 0, 0, 1, 1, 1, 0, 0, 1, 0, 0, 0,\n",
              "       0, 1, 0, 0, 0, 1, 0, 0, 0, 0, 1])"
            ]
          },
          "metadata": {
            "tags": []
          },
          "execution_count": 46
        }
      ]
    },
    {
      "cell_type": "markdown",
      "metadata": {
        "id": "1xLL2Ai3x6li",
        "colab_type": "text"
      },
      "source": [
        "### Standardisation"
      ]
    },
    {
      "cell_type": "code",
      "metadata": {
        "id": "nigL9ZJ7xcRR",
        "colab_type": "code",
        "colab": {}
      },
      "source": [
        "# When we have data set with features with large ranges of data within then for\n",
        "# them to simultaneously contribute to a single model would become difficuilt as\n",
        "# learning algorithm learns it in a very difficuilt manner (to give weightage). \n",
        "# To avoid this difficuilty we exploit the prpoerties of the dataset.\n",
        "\n",
        "''' Property 1: Each column of dataset have zero mean(average number is zero). \n",
        "Property 2: Each column of dataset have standard deviation of 1.'''\n",
        "# sklearn is used for machine learning for standardization\n",
        "# StandardScaler\n",
        "\n",
        "from sklearn.preprocessing import StandardScaler"
      ],
      "execution_count": 0,
      "outputs": []
    },
    {
      "cell_type": "code",
      "metadata": {
        "id": "eTrJ9Bjh04op",
        "colab_type": "code",
        "colab": {}
      },
      "source": [
        "R = np.random.random([100, 1])"
      ],
      "execution_count": 0,
      "outputs": []
    },
    {
      "cell_type": "code",
      "metadata": {
        "id": "mD03ayNK1MPg",
        "colab_type": "code",
        "outputId": "9a349d28-f268-4f8c-9570-6c3b61ce53e1",
        "colab": {
          "base_uri": "https://localhost:8080/",
          "height": 1000
        }
      },
      "source": [
        "R # 100 numbers between 0 and 1"
      ],
      "execution_count": 0,
      "outputs": [
        {
          "output_type": "execute_result",
          "data": {
            "text/plain": [
              "array([[0.62758911],\n",
              "       [0.49508002],\n",
              "       [0.34035721],\n",
              "       [0.41845641],\n",
              "       [0.51264842],\n",
              "       [0.128754  ],\n",
              "       [0.79516316],\n",
              "       [0.43054493],\n",
              "       [0.45013081],\n",
              "       [0.6950558 ],\n",
              "       [0.54039152],\n",
              "       [0.90016087],\n",
              "       [0.86510755],\n",
              "       [0.53367283],\n",
              "       [0.30773188],\n",
              "       [0.64951689],\n",
              "       [0.72231269],\n",
              "       [0.02262373],\n",
              "       [0.84305822],\n",
              "       [0.75037469],\n",
              "       [0.96930155],\n",
              "       [0.51986276],\n",
              "       [0.38756006],\n",
              "       [0.54489662],\n",
              "       [0.78542722],\n",
              "       [0.12855843],\n",
              "       [0.67819319],\n",
              "       [0.56210114],\n",
              "       [0.53600071],\n",
              "       [0.61628423],\n",
              "       [0.87662639],\n",
              "       [0.95673248],\n",
              "       [0.91612314],\n",
              "       [0.98107337],\n",
              "       [0.49066797],\n",
              "       [0.29168484],\n",
              "       [0.97945361],\n",
              "       [0.59968484],\n",
              "       [0.29699032],\n",
              "       [0.82694882],\n",
              "       [0.74736171],\n",
              "       [0.13963452],\n",
              "       [0.91241496],\n",
              "       [0.26008764],\n",
              "       [0.68163508],\n",
              "       [0.04336506],\n",
              "       [0.15651242],\n",
              "       [0.47861254],\n",
              "       [0.82338316],\n",
              "       [0.29557274],\n",
              "       [0.43248386],\n",
              "       [0.71027312],\n",
              "       [0.8935631 ],\n",
              "       [0.72271784],\n",
              "       [0.56167683],\n",
              "       [0.29518425],\n",
              "       [0.6288069 ],\n",
              "       [0.73852695],\n",
              "       [0.97582716],\n",
              "       [0.58880658],\n",
              "       [0.26676988],\n",
              "       [0.10320802],\n",
              "       [0.40011189],\n",
              "       [0.70310125],\n",
              "       [0.44714757],\n",
              "       [0.88672471],\n",
              "       [0.03853899],\n",
              "       [0.63926022],\n",
              "       [0.49369758],\n",
              "       [0.10980079],\n",
              "       [0.50020171],\n",
              "       [0.14504917],\n",
              "       [0.50830906],\n",
              "       [0.84748819],\n",
              "       [0.76454237],\n",
              "       [0.5514988 ],\n",
              "       [0.6853688 ],\n",
              "       [0.87785361],\n",
              "       [0.11566207],\n",
              "       [0.4859937 ],\n",
              "       [0.32169084],\n",
              "       [0.28853805],\n",
              "       [0.07533083],\n",
              "       [0.51976325],\n",
              "       [0.03506327],\n",
              "       [0.42549256],\n",
              "       [0.71473726],\n",
              "       [0.34139077],\n",
              "       [0.19323437],\n",
              "       [0.39245493],\n",
              "       [0.42555983],\n",
              "       [0.49201213],\n",
              "       [0.24359767],\n",
              "       [0.33872071],\n",
              "       [0.69451735],\n",
              "       [0.11491376],\n",
              "       [0.94343378],\n",
              "       [0.44342142],\n",
              "       [0.05207396],\n",
              "       [0.41243449]])"
            ]
          },
          "metadata": {
            "tags": []
          },
          "execution_count": 49
        }
      ]
    },
    {
      "cell_type": "code",
      "metadata": {
        "id": "mG3ATNk01R6F",
        "colab_type": "code",
        "outputId": "2a008951-1bab-461a-f56b-2d258a258fbd",
        "colab": {
          "base_uri": "https://localhost:8080/",
          "height": 265
        }
      },
      "source": [
        "plt.plot(R)\n",
        "plt.show()"
      ],
      "execution_count": 0,
      "outputs": [
        {
          "output_type": "display_data",
          "data": {
            "image/png": "[encoded data removed]",
            "text/plain": [
              "<Figure size 432x288 with 1 Axes>"
            ]
          },
          "metadata": {
            "tags": [],
            "needs_background": "light"
          }
        }
      ]
    },
    {
      "cell_type": "code",
      "metadata": {
        "id": "gtH6JFad1Vnd",
        "colab_type": "code",
        "outputId": "a096cd61-89f3-4604-ab7c-40031856024b",
        "colab": {
          "base_uri": "https://localhost:8080/",
          "height": 51
        }
      },
      "source": [
        "print(type(R))\n",
        "np.mean(R)"
      ],
      "execution_count": 0,
      "outputs": [
        {
          "output_type": "stream",
          "text": [
            "<class 'numpy.ndarray'>\n"
          ],
          "name": "stdout"
        },
        {
          "output_type": "execute_result",
          "data": {
            "text/plain": [
              "0.5209805843555115"
            ]
          },
          "metadata": {
            "tags": []
          },
          "execution_count": 51
        }
      ]
    },
    {
      "cell_type": "code",
      "metadata": {
        "id": "KnMOdZcf1eg0",
        "colab_type": "code",
        "outputId": "480c518e-bbe7-40ea-8f4f-5f55b115a0d4",
        "colab": {
          "base_uri": "https://localhost:8080/",
          "height": 34
        }
      },
      "source": [
        "np.std(R)"
      ],
      "execution_count": 0,
      "outputs": [
        {
          "output_type": "execute_result",
          "data": {
            "text/plain": [
              "0.2665254961165306"
            ]
          },
          "metadata": {
            "tags": []
          },
          "execution_count": 52
        }
      ]
    },
    {
      "cell_type": "code",
      "metadata": {
        "id": "ifgSGNZp1ssk",
        "colab_type": "code",
        "colab": {}
      },
      "source": [
        "''' What we can see that np.mean(R) returns around 0.5 and np.std(R) returns\n",
        "around 0.30. This means the column is not standardized column because a standardized\n",
        "will have a mean of 0 and standard deviation of 1'''\n",
        "\n",
        "# How to standardize the column?\n",
        "scaler = StandardScaler() # creates an instance of StandardScaler"
      ],
      "execution_count": 0,
      "outputs": []
    },
    {
      "cell_type": "code",
      "metadata": {
        "id": "wUUEweU32fl0",
        "colab_type": "code",
        "outputId": "e57a26c9-56f8-4514-a934-c92657349fa0",
        "colab": {
          "base_uri": "https://localhost:8080/",
          "height": 34
        }
      },
      "source": [
        "scaler.fit(R) # Fittng the column R"
      ],
      "execution_count": 0,
      "outputs": [
        {
          "output_type": "execute_result",
          "data": {
            "text/plain": [
              "StandardScaler(copy=True, with_mean=True, with_std=True)"
            ]
          },
          "metadata": {
            "tags": []
          },
          "execution_count": 54
        }
      ]
    },
    {
      "cell_type": "code",
      "metadata": {
        "id": "sIprDYDv2i40",
        "colab_type": "code",
        "outputId": "c0094672-2851-4ff2-d93b-db4b72d77321",
        "colab": {
          "base_uri": "https://localhost:8080/",
          "height": 34
        }
      },
      "source": [
        "print(scaler.mean_)"
      ],
      "execution_count": 0,
      "outputs": [
        {
          "output_type": "stream",
          "text": [
            "[0.52098058]\n"
          ],
          "name": "stdout"
        }
      ]
    },
    {
      "cell_type": "code",
      "metadata": {
        "id": "zRcVBxiY22Uf",
        "colab_type": "code",
        "colab": {}
      },
      "source": [
        "R_t = scaler.transform(R) # transforming the column R to a standardized column"
      ],
      "execution_count": 0,
      "outputs": []
    },
    {
      "cell_type": "code",
      "metadata": {
        "id": "RgonIwQa3L8d",
        "colab_type": "code",
        "outputId": "c3ee0d91-ff36-49b3-9f20-dfacb4c8c392",
        "colab": {
          "base_uri": "https://localhost:8080/",
          "height": 34
        }
      },
      "source": [
        "np.mean(R_t) # this is almost equal to 0"
      ],
      "execution_count": 0,
      "outputs": [
        {
          "output_type": "execute_result",
          "data": {
            "text/plain": [
              "4.551914400963141e-16"
            ]
          },
          "metadata": {
            "tags": []
          },
          "execution_count": 57
        }
      ]
    },
    {
      "cell_type": "code",
      "metadata": {
        "id": "xnoLONU33OvK",
        "colab_type": "code",
        "outputId": "9733c4bf-e0a0-4911-d434-9780534be89a",
        "colab": {
          "base_uri": "https://localhost:8080/",
          "height": 34
        }
      },
      "source": [
        "np.std(R_t) # exactly 1"
      ],
      "execution_count": 0,
      "outputs": [
        {
          "output_type": "execute_result",
          "data": {
            "text/plain": [
              "1.0"
            ]
          },
          "metadata": {
            "tags": []
          },
          "execution_count": 58
        }
      ]
    },
    {
      "cell_type": "code",
      "metadata": {
        "id": "qes2sqek3YVs",
        "colab_type": "code",
        "outputId": "54b2541b-8bdb-4e67-b269-97ec5be20569",
        "colab": {
          "base_uri": "https://localhost:8080/",
          "height": 265
        }
      },
      "source": [
        "plt.plot(R_t)\n",
        "plt.show()"
      ],
      "execution_count": 0,
      "outputs": [
        {
          "output_type": "display_data",
          "data": {
            "image/png": "[encoded data removed]",
            "text/plain": [
              "<Figure size 432x288 with 1 Axes>"
            ]
          },
          "metadata": {
            "tags": [],
            "needs_background": "light"
          }
        }
      ]
    },
    {
      "cell_type": "code",
      "metadata": {
        "id": "8jDN1oKt3ttJ",
        "colab_type": "code",
        "colab": {}
      },
      "source": [
        "# random state ensures reproducibility of split\n",
        "# stratify will divide the data based on the classes of the output \n",
        "# (we have real numbers as target and we cannot stratify it therefore\n",
        "# we will use Y_binarised to stratify which is the binarised version of target \n",
        "# feature. This will ensure that the number of 1's and 0's are roughly the same \n",
        "# in X_train and X_test)\n",
        "X_train, X_test, Y_train, Y_test = train_test_split(X, Y.values, \n",
        "                                                    random_state = 0, \n",
        "                                                    stratify = Y_binarised) "
      ],
      "execution_count": 0,
      "outputs": []
    },
    {
      "cell_type": "code",
      "metadata": {
        "id": "cLK7FtCuB8G6",
        "colab_type": "code",
        "outputId": "edecd2cf-b037-4cda-cba3-0e54dc9639bc",
        "colab": {
          "base_uri": "https://localhost:8080/",
          "height": 51
        }
      },
      "source": [
        "''' We can standardize, normalize, clean, drop or whatever processing that needs\n",
        "to be done only in training data. We do not have any access to test data '''\n",
        "print(X_train.shape)\n",
        "print(X_test.shape)"
      ],
      "execution_count": 0,
      "outputs": [
        {
          "output_type": "stream",
          "text": [
            "(255, 87)\n",
            "(86, 87)\n"
          ],
          "name": "stdout"
        }
      ]
    },
    {
      "cell_type": "code",
      "metadata": {
        "id": "99I4ryw3B_AQ",
        "colab_type": "code",
        "colab": {}
      },
      "source": [
        "scaler = StandardScaler()"
      ],
      "execution_count": 0,
      "outputs": []
    },
    {
      "cell_type": "markdown",
      "metadata": {
        "id": "WKPInumSIOk2",
        "colab_type": "text"
      },
      "source": [
        "## Standardization of X_train and X_test data \n",
        "## $Standardized_x = {({1}/{std})*{x} + {(- {mu}/ {std})})} $"
      ]
    },
    {
      "cell_type": "code",
      "metadata": {
        "id": "M2aDBCuBDsTu",
        "colab_type": "code",
        "colab": {}
      },
      "source": [
        "# Standardization\n",
        "# learning parameters are mean denoted as mu and standard deviation denoted as std\n",
        "# transformation is in the form written as y = mx + c where m = 1/std and c = -mu/std\n",
        "\n",
        "# Fitting and Transforming on one go\n",
        "X_scaled_train = scaler.fit_transform(X_train) # learning of parameters and transformation of data\n",
        "X_scaled_test = scaler.transform(X_test) # no learning but directly the learned parameters are applied for transformation"
      ],
      "execution_count": 0,
      "outputs": []
    },
    {
      "cell_type": "code",
      "metadata": {
        "id": "qyrgb0FVFCAK",
        "colab_type": "code",
        "outputId": "1eb20d73-0522-4f8d-e49a-00f681f36add",
        "colab": {
          "base_uri": "https://localhost:8080/",
          "height": 51
        }
      },
      "source": [
        "print(X_scaled_train.shape)\n",
        "print(X_scaled_test.shape)"
      ],
      "execution_count": 0,
      "outputs": [
        {
          "output_type": "stream",
          "text": [
            "(255, 87)\n",
            "(86, 87)\n"
          ],
          "name": "stdout"
        }
      ]
    },
    {
      "cell_type": "code",
      "metadata": {
        "id": "IaUtHkcdUqF6",
        "colab_type": "code",
        "colab": {}
      },
      "source": [
        "#X_scaled_train"
      ],
      "execution_count": 0,
      "outputs": []
    },
    {
      "cell_type": "markdown",
      "metadata": {
        "id": "1zzk8OHygADy",
        "colab_type": "text"
      },
      "source": [
        "## $ Normalized_x = {(1/ max - min)}  * x  + {(-( min / max - min))} $"
      ]
    },
    {
      "cell_type": "code",
      "metadata": {
        "id": "GGgbQdb6KW5t",
        "colab_type": "code",
        "colab": {}
      },
      "source": [
        "minmax_scaler = MinMaxScaler()"
      ],
      "execution_count": 0,
      "outputs": []
    },
    {
      "cell_type": "code",
      "metadata": {
        "id": "6kOnxHbGPaGi",
        "colab_type": "code",
        "outputId": "6c571a82-7168-4644-a75b-e3c77aaac82c",
        "colab": {
          "base_uri": "https://localhost:8080/",
          "height": 34
        }
      },
      "source": [
        "type(Y_train)"
      ],
      "execution_count": 0,
      "outputs": [
        {
          "output_type": "execute_result",
          "data": {
            "text/plain": [
              "numpy.ndarray"
            ]
          },
          "metadata": {
            "tags": []
          },
          "execution_count": 67
        }
      ]
    },
    {
      "cell_type": "code",
      "metadata": {
        "id": "YTDOqlOoMxF0",
        "colab_type": "code",
        "colab": {}
      },
      "source": [
        "Y_scaled_train = minmax_scaler.fit_transform(Y_train.reshape(-1, 1)) # (-1, 1) to reshape as we have single feature"
      ],
      "execution_count": 0,
      "outputs": []
    },
    {
      "cell_type": "code",
      "metadata": {
        "id": "sPrY5H7QNLfp",
        "colab_type": "code",
        "outputId": "b55b34d7-42f6-463f-bcee-382202f9b83c",
        "colab": {
          "base_uri": "https://localhost:8080/",
          "height": 51
        }
      },
      "source": [
        "print(np.max(Y_scaled_train))\n",
        "print(np.min(Y_scaled_train))"
      ],
      "execution_count": 0,
      "outputs": [
        {
          "output_type": "stream",
          "text": [
            "1.0\n",
            "0.0\n"
          ],
          "name": "stdout"
        }
      ]
    },
    {
      "cell_type": "code",
      "metadata": {
        "id": "hxWfAIUvQoQ_",
        "colab_type": "code",
        "colab": {}
      },
      "source": [
        "Y_scaled_test = minmax_scaler.transform(Y_test.reshape(-1, 1))"
      ],
      "execution_count": 0,
      "outputs": []
    },
    {
      "cell_type": "code",
      "metadata": {
        "id": "JQUIcMc2SmWG",
        "colab_type": "code",
        "outputId": "71eae0ac-b47d-4898-af18-04c8051705ed",
        "colab": {
          "base_uri": "https://localhost:8080/",
          "height": 1000
        }
      },
      "source": [
        "Y_scaled_train"
      ],
      "execution_count": 0,
      "outputs": [
        {
          "output_type": "execute_result",
          "data": {
            "text/plain": [
              "array([[0.68],\n",
              "       [0.72],\n",
              "       [0.72],\n",
              "       [0.6 ],\n",
              "       [0.8 ],\n",
              "       [0.64],\n",
              "       [0.68],\n",
              "       [0.72],\n",
              "       [0.64],\n",
              "       [0.76],\n",
              "       [0.72],\n",
              "       [0.2 ],\n",
              "       [0.8 ],\n",
              "       [0.72],\n",
              "       [0.92],\n",
              "       [0.76],\n",
              "       [0.6 ],\n",
              "       [0.76],\n",
              "       [0.84],\n",
              "       [0.68],\n",
              "       [0.8 ],\n",
              "       [0.72],\n",
              "       [0.32],\n",
              "       [0.72],\n",
              "       [0.36],\n",
              "       [0.76],\n",
              "       [0.72],\n",
              "       [0.64],\n",
              "       [0.72],\n",
              "       [0.76],\n",
              "       [0.6 ],\n",
              "       [0.8 ],\n",
              "       [0.24],\n",
              "       [0.4 ],\n",
              "       [0.68],\n",
              "       [0.44],\n",
              "       [0.64],\n",
              "       [0.52],\n",
              "       [0.68],\n",
              "       [0.6 ],\n",
              "       [0.6 ],\n",
              "       [0.56],\n",
              "       [0.64],\n",
              "       [0.56],\n",
              "       [0.72],\n",
              "       [0.48],\n",
              "       [0.68],\n",
              "       [0.64],\n",
              "       [0.72],\n",
              "       [0.64],\n",
              "       [0.72],\n",
              "       [0.76],\n",
              "       [0.68],\n",
              "       [0.52],\n",
              "       [0.6 ],\n",
              "       [0.68],\n",
              "       [0.76],\n",
              "       [0.72],\n",
              "       [0.76],\n",
              "       [0.52],\n",
              "       [0.56],\n",
              "       [0.76],\n",
              "       [0.56],\n",
              "       [0.56],\n",
              "       [0.68],\n",
              "       [0.56],\n",
              "       [0.8 ],\n",
              "       [0.56],\n",
              "       [0.36],\n",
              "       [0.8 ],\n",
              "       [0.76],\n",
              "       [0.6 ],\n",
              "       [0.8 ],\n",
              "       [0.64],\n",
              "       [0.76],\n",
              "       [0.8 ],\n",
              "       [0.56],\n",
              "       [0.72],\n",
              "       [0.76],\n",
              "       [0.72],\n",
              "       [0.76],\n",
              "       [0.56],\n",
              "       [0.6 ],\n",
              "       [0.64],\n",
              "       [0.6 ],\n",
              "       [0.68],\n",
              "       [0.56],\n",
              "       [0.6 ],\n",
              "       [0.2 ],\n",
              "       [0.72],\n",
              "       [0.72],\n",
              "       [0.88],\n",
              "       [0.36],\n",
              "       [0.32],\n",
              "       [0.4 ],\n",
              "       [0.64],\n",
              "       [0.52],\n",
              "       [0.68],\n",
              "       [1.  ],\n",
              "       [0.6 ],\n",
              "       [0.72],\n",
              "       [0.68],\n",
              "       [0.64],\n",
              "       [0.64],\n",
              "       [0.68],\n",
              "       [0.68],\n",
              "       [0.52],\n",
              "       [0.76],\n",
              "       [0.6 ],\n",
              "       [0.48],\n",
              "       [0.64],\n",
              "       [0.6 ],\n",
              "       [0.68],\n",
              "       [0.48],\n",
              "       [0.8 ],\n",
              "       [0.6 ],\n",
              "       [0.64],\n",
              "       [0.4 ],\n",
              "       [0.72],\n",
              "       [0.6 ],\n",
              "       [0.8 ],\n",
              "       [0.56],\n",
              "       [0.68],\n",
              "       [0.52],\n",
              "       [0.72],\n",
              "       [0.2 ],\n",
              "       [0.36],\n",
              "       [0.72],\n",
              "       [0.36],\n",
              "       [0.56],\n",
              "       [0.72],\n",
              "       [0.64],\n",
              "       [0.64],\n",
              "       [0.56],\n",
              "       [0.76],\n",
              "       [0.6 ],\n",
              "       [0.76],\n",
              "       [0.68],\n",
              "       [0.48],\n",
              "       [0.52],\n",
              "       [0.64],\n",
              "       [0.76],\n",
              "       [0.68],\n",
              "       [0.52],\n",
              "       [0.8 ],\n",
              "       [0.88],\n",
              "       [0.56],\n",
              "       [0.68],\n",
              "       [0.72],\n",
              "       [0.6 ],\n",
              "       [0.4 ],\n",
              "       [0.56],\n",
              "       [0.76],\n",
              "       [0.64],\n",
              "       [0.72],\n",
              "       [0.12],\n",
              "       [0.8 ],\n",
              "       [0.64],\n",
              "       [0.68],\n",
              "       [0.48],\n",
              "       [0.56],\n",
              "       [0.6 ],\n",
              "       [0.52],\n",
              "       [0.76],\n",
              "       [0.6 ],\n",
              "       [0.  ],\n",
              "       [0.6 ],\n",
              "       [0.68],\n",
              "       [0.48],\n",
              "       [0.64],\n",
              "       [0.64],\n",
              "       [0.6 ],\n",
              "       [0.72],\n",
              "       [0.72],\n",
              "       [0.76],\n",
              "       [0.64],\n",
              "       [0.6 ],\n",
              "       [0.6 ],\n",
              "       [0.76],\n",
              "       [0.76],\n",
              "       [0.56],\n",
              "       [0.48],\n",
              "       [0.76],\n",
              "       [0.48],\n",
              "       [0.84],\n",
              "       [0.6 ],\n",
              "       [0.72],\n",
              "       [0.52],\n",
              "       [0.8 ],\n",
              "       [0.72],\n",
              "       [0.72],\n",
              "       [0.56],\n",
              "       [0.64],\n",
              "       [0.48],\n",
              "       [0.68],\n",
              "       [0.48],\n",
              "       [0.6 ],\n",
              "       [0.72],\n",
              "       [0.44],\n",
              "       [0.52],\n",
              "       [0.44],\n",
              "       [0.52],\n",
              "       [0.72],\n",
              "       [0.48],\n",
              "       [0.6 ],\n",
              "       [0.72],\n",
              "       [0.64],\n",
              "       [0.72],\n",
              "       [0.8 ],\n",
              "       [0.56],\n",
              "       [0.64],\n",
              "       [0.56],\n",
              "       [0.64],\n",
              "       [0.76],\n",
              "       [0.52],\n",
              "       [0.72],\n",
              "       [0.68],\n",
              "       [0.8 ],\n",
              "       [0.56],\n",
              "       [0.8 ],\n",
              "       [0.64],\n",
              "       [0.36],\n",
              "       [0.56],\n",
              "       [0.68],\n",
              "       [0.64],\n",
              "       [0.68],\n",
              "       [0.68],\n",
              "       [0.76],\n",
              "       [0.44],\n",
              "       [0.8 ],\n",
              "       [0.6 ],\n",
              "       [0.36],\n",
              "       [0.6 ],\n",
              "       [0.64],\n",
              "       [0.56],\n",
              "       [0.8 ],\n",
              "       [0.52],\n",
              "       [0.84],\n",
              "       [0.4 ],\n",
              "       [0.84],\n",
              "       [0.76],\n",
              "       [0.48],\n",
              "       [0.76],\n",
              "       [0.6 ],\n",
              "       [0.76],\n",
              "       [0.76],\n",
              "       [0.76],\n",
              "       [0.48],\n",
              "       [0.56],\n",
              "       [0.32],\n",
              "       [0.52],\n",
              "       [0.8 ],\n",
              "       [0.4 ],\n",
              "       [0.84],\n",
              "       [0.84]])"
            ]
          },
          "metadata": {
            "tags": []
          },
          "execution_count": 71
        }
      ]
    },
    {
      "cell_type": "code",
      "metadata": {
        "id": "W3Lz39KVRD45",
        "colab_type": "code",
        "colab": {}
      },
      "source": [
        "# Now the treshold value also changes after standardization\n",
        "# threshold is a scalar value and so we convert it to a list and then to an array\n",
        "scaled_threshold = list(minmax_scaler.transform(np.array([threshold]).reshape(1, -1)))[0][0]"
      ],
      "execution_count": 0,
      "outputs": []
    },
    {
      "cell_type": "code",
      "metadata": {
        "id": "IxdIP2S1UGOl",
        "colab_type": "code",
        "outputId": "8f1611ae-5e6d-46a8-a22d-153c60b3a159",
        "colab": {
          "base_uri": "https://localhost:8080/",
          "height": 34
        }
      },
      "source": [
        "scaled_threshold"
      ],
      "execution_count": 0,
      "outputs": [
        {
          "output_type": "execute_result",
          "data": {
            "text/plain": [
              "0.6800000000000002"
            ]
          },
          "metadata": {
            "tags": []
          },
          "execution_count": 73
        }
      ]
    },
    {
      "cell_type": "code",
      "metadata": {
        "id": "1qBhz0FfUMLT",
        "colab_type": "code",
        "colab": {}
      },
      "source": [
        "Y_binarised_train = (Y_scaled_train > scaled_threshold).astype(\"int\").ravel()"
      ],
      "execution_count": 0,
      "outputs": []
    },
    {
      "cell_type": "code",
      "metadata": {
        "id": "XvZBRgHiWrN5",
        "colab_type": "code",
        "colab": {}
      },
      "source": [
        "#Y_binarised_train\n",
        "Y_binarised_test = (Y_scaled_test > scaled_threshold).astype(\"int\").ravel()"
      ],
      "execution_count": 0,
      "outputs": []
    },
    {
      "cell_type": "code",
      "metadata": {
        "id": "k3IKmU-tXM7s",
        "colab_type": "code",
        "outputId": "1ff7d8f5-34ce-4c81-e400-6365a1288ddb",
        "colab": {
          "base_uri": "https://localhost:8080/",
          "height": 204
        }
      },
      "source": [
        "print(Y_binarised_train)\n",
        "print()\n",
        "print(Y_binarised_test)"
      ],
      "execution_count": 0,
      "outputs": [
        {
          "output_type": "stream",
          "text": [
            "[0 1 1 0 1 0 0 1 0 1 1 0 1 1 1 1 0 1 1 0 1 1 0 1 0 1 1 0 1 1 0 1 0 0 0 0 0\n",
            " 0 0 0 0 0 0 0 1 0 0 0 1 0 1 1 0 0 0 0 1 1 1 0 0 1 0 0 0 0 1 0 0 1 1 0 1 0\n",
            " 1 1 0 1 1 1 1 0 0 0 0 0 0 0 0 1 1 1 0 0 0 0 0 0 1 0 1 0 0 0 0 0 0 1 0 0 0\n",
            " 0 0 0 1 0 0 0 1 0 1 0 0 0 1 0 0 1 0 0 1 0 0 0 1 0 1 0 0 0 0 1 0 0 1 1 0 0\n",
            " 1 0 0 0 1 0 1 0 1 0 0 0 0 0 0 1 0 0 0 0 0 0 0 0 1 1 1 0 0 0 1 1 0 0 1 0 1\n",
            " 0 1 0 1 1 1 0 0 0 0 0 0 1 0 0 0 0 1 0 0 1 0 1 1 0 0 0 0 1 0 1 0 1 0 1 0 0\n",
            " 0 0 0 0 0 1 0 1 0 0 0 0 0 1 0 1 0 1 1 0 1 0 1 1 1 0 0 0 0 1 0 1 1]\n",
            "\n",
            "[0 1 1 0 1 0 1 0 0 1 1 1 1 1 0 1 0 1 0 0 0 0 0 0 0 0 0 1 0 0 0 0 0 1 0 1 0\n",
            " 0 1 0 1 0 1 0 0 1 0 0 0 1 0 0 1 0 0 1 1 0 1 1 0 0 0 1 1 1 1 0 1 0 1 0 0 0\n",
            " 0 0 0 1 0 0 0 1 0 0 1 0]\n"
          ],
          "name": "stdout"
        }
      ]
    },
    {
      "cell_type": "markdown",
      "metadata": {
        "id": "jibG6BtgdkMK",
        "colab_type": "text"
      },
      "source": [
        ""
      ]
    },
    {
      "cell_type": "markdown",
      "metadata": {
        "id": "wLHzhiyBdxWl",
        "colab_type": "text"
      },
      "source": [
        "# Train on Real Data"
      ]
    },
    {
      "cell_type": "code",
      "metadata": {
        "id": "oMqATWuRddXi",
        "colab_type": "code",
        "colab": {}
      },
      "source": [
        "sn = SigmoidNeuron()"
      ],
      "execution_count": 0,
      "outputs": []
    },
    {
      "cell_type": "code",
      "metadata": {
        "id": "fW9N_df6eJcI",
        "colab_type": "code",
        "outputId": "45ea1f8e-07e3-4558-b2f1-f05278aef073",
        "colab": {
          "base_uri": "https://localhost:8080/",
          "height": 362,
          "referenced_widgets": [
            "02e2def6dcdb444ebdf6c203cc498f06",
            "d501cfb815ce4bb9b0ef9f67dba437af",
            "ee456c9e84f240c7b155f7e02a0f4796",
            "fd7bb5a4d565402dabc35b25b4e68e45",
            "5a7bc8622fdd4524a4f2f0dc17941164",
            "98269ff902784df3a133c1ad388b700e",
            "11e0d4bdc20a4ac88b4216e0e028b563",
            "bccff4f3d01440bb8639d5792a7915d0"
          ]
        }
      },
      "source": [
        "sn.fit(X_scaled_train, Y_scaled_train, epochs = 2000, learning_rate = 0.015, display_loss = True)"
      ],
      "execution_count": 0,
      "outputs": [
        {
          "output_type": "stream",
          "text": [
            "/usr/local/lib/python3.6/dist-packages/ipykernel_launcher.py:32: TqdmDeprecationWarning: This function will be removed in tqdm==5.0.0\n",
            "Please use `tqdm.notebook.tqdm` instead of `tqdm.tqdm_notebook`\n"
          ],
          "name": "stderr"
        },
        {
          "output_type": "display_data",
          "data": {
            "application/vnd.jupyter.widget-view+json": {
              "model_id": "02e2def6dcdb444ebdf6c203cc498f06",
              "version_minor": 0,
              "version_major": 2
            },
            "text/plain": [
              "HBox(children=(IntProgress(value=0, max=2000), HTML(value='')))"
            ]
          },
          "metadata": {
            "tags": []
          }
        },
        {
          "output_type": "stream",
          "text": [
            "\n"
          ],
          "name": "stdout"
        },
        {
          "output_type": "display_data",
          "data": {
            "image/png": "[encoded data removed]",
            "text/plain": [
              "<Figure size 432x288 with 1 Axes>"
            ]
          },
          "metadata": {
            "tags": [],
            "needs_background": "light"
          }
        }
      ]
    },
    {
      "cell_type": "code",
      "metadata": {
        "id": "guVqvwbyer5t",
        "colab_type": "code",
        "colab": {}
      },
      "source": [
        "Y_pred_train = sn.predict(X_scaled_train)\n",
        "Y_pred_test = sn.predict(X_scaled_test)"
      ],
      "execution_count": 0,
      "outputs": []
    },
    {
      "cell_type": "code",
      "metadata": {
        "id": "tPuBroS5gD4W",
        "colab_type": "code",
        "colab": {}
      },
      "source": [
        "Y_pred_binarised_train = (Y_pred_train > scaled_threshold).astype(\"int\").ravel()\n",
        "Y_pred_binarised_test = (Y_pred_test > scaled_threshold).astype(\"int\").ravel()"
      ],
      "execution_count": 0,
      "outputs": []
    },
    {
      "cell_type": "code",
      "metadata": {
        "id": "CV6Y3WmPhJPC",
        "colab_type": "code",
        "colab": {}
      },
      "source": [
        "accuracy_train = accuracy_score(Y_pred_binarised_train, Y_binarised_train)\n",
        "accuracy_test = accuracy_score(Y_pred_binarised_test, Y_binarised_test)"
      ],
      "execution_count": 0,
      "outputs": []
    },
    {
      "cell_type": "code",
      "metadata": {
        "id": "9604gsGIh4Q7",
        "colab_type": "code",
        "outputId": "5562a86d-9b34-4d2f-dee3-59b0b485ea29",
        "colab": {
          "base_uri": "https://localhost:8080/",
          "height": 34
        }
      },
      "source": [
        "print(accuracy_train, accuracy_test)"
      ],
      "execution_count": 0,
      "outputs": [
        {
          "output_type": "stream",
          "text": [
            "0.7529411764705882 0.7209302325581395\n"
          ],
          "name": "stdout"
        }
      ]
    },
    {
      "cell_type": "code",
      "metadata": {
        "id": "0S-DJLhih8sk",
        "colab_type": "code",
        "colab": {}
      },
      "source": [
        "  "
      ],
      "execution_count": 0,
      "outputs": []
    }
  ]
}